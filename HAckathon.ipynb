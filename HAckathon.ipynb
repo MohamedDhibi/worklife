{
 "cells": [
  {
   "cell_type": "code",
   "execution_count": 277,
   "id": "30e918bb",
   "metadata": {},
   "outputs": [],
   "source": [
    "import tensorflow as tf\n",
    "import matplotlib.image as img\n",
    "%matplotlib inline\n",
    "import numpy as np\n",
    "from collections import defaultdict\n",
    "import collections\n",
    "from shutil import copy\n",
    "from shutil import copytree, rmtree\n",
    "import tensorflow.keras.backend as K\n",
    "from tensorflow.keras.models import load_model\n",
    "from tensorflow.keras.preprocessing import image\n",
    "import matplotlib.pyplot as plt\n",
    "import numpy as np\n",
    "import os\n",
    "import random\n",
    "import tensorflow as tf\n",
    "import tensorflow.keras.backend as K\n",
    "from tensorflow.keras import regularizers\n",
    "from tensorflow.keras.applications.inception_v3 import InceptionV3\n",
    "from tensorflow.keras.models import Sequential, Model\n",
    "from tensorflow.keras.layers import Dense, Dropout, Activation, Flatten\n",
    "from tensorflow.keras.layers import Convolution2D, MaxPooling2D, ZeroPadding2D, GlobalAveragePooling2D, AveragePooling2D\n",
    "from tensorflow.keras.preprocessing.image import ImageDataGenerator\n",
    "from tensorflow.keras.callbacks import ModelCheckpoint, CSVLogger\n",
    "from tensorflow.keras.optimizers import SGD\n",
    "from tensorflow.keras.regularizers import l2\n",
    "from tensorflow import keras\n",
    "from tensorflow.keras import models\n",
    "import cv2"
   ]
  },
  {
   "cell_type": "code",
   "execution_count": 278,
   "id": "f97ddbff",
   "metadata": {},
   "outputs": [],
   "source": [
    "def fast_encode(texts, tokenizer, chunk_size=256, maxlen=512):\n",
    "    tokenizer.enable_truncation(max_length=maxlen)\n",
    "    tokenizer.enable_padding(max_length=maxlen)\n",
    "    all_ids = []\n",
    "    \n",
    "    for i in tqdm(range(0, len(texts), chunk_size)):\n",
    "        text_chunk = texts[i:i+chunk_size].tolist()\n",
    "        encs = tokenizer.encode_batch(text_chunk)\n",
    "        all_ids.extend([enc.ids for enc in encs])\n",
    "    \n",
    "    return np.array(all_ids)"
   ]
  },
  {
   "cell_type": "code",
   "execution_count": 279,
   "id": "aacfb54a",
   "metadata": {},
   "outputs": [],
   "source": [
    "def build_model(transformer, loss='binary_crossentropy', max_len=512):\n",
    "    input_word_ids = Input(shape=(max_len,), dtype=tf.int32, name=\"input_word_ids\")\n",
    "    sequence_output = transformer(input_word_ids)[0]\n",
    "    cls_token = sequence_output[:, 0, :]\n",
    "    x = tf.keras.layers.Dropout(0.35)(cls_token)\n",
    "    out = Dense(1, activation='sigmoid')(x)\n",
    "    \n",
    "    model = Model(inputs=input_word_ids, outputs=out)\n",
    "    model.compile(Adam(lr=3e-5), loss=loss, metrics=[tf.keras.metrics.AUC()])\n",
    "    \n",
    "    return model"
   ]
  },
  {
   "cell_type": "code",
   "execution_count": 280,
   "id": "c6312a09",
   "metadata": {},
   "outputs": [
    {
     "name": "stderr",
     "output_type": "stream",
     "text": [
      "[nltk_data] Downloading package punkt to\n",
      "[nltk_data]     C:\\Users\\DHIBI\\AppData\\Roaming\\nltk_data...\n",
      "[nltk_data]   Package punkt is already up-to-date!\n"
     ]
    }
   ],
   "source": [
    "# https://stackoverflow.com/questions/8897593/how-to-compute-the-similarity-between-two-text-documents\n",
    "import nltk, string\n",
    "from sklearn.feature_extraction.text import TfidfVectorizer\n",
    "\n",
    "nltk.download('punkt') # if necessary...\n",
    "\n",
    "\n",
    "stemmer = nltk.stem.porter.PorterStemmer()\n",
    "remove_punctuation_map = dict((ord(char), None) for char in string.punctuation)\n",
    "\n",
    "def stem_tokens(tokens):\n",
    "    return [stemmer.stem(item) for item in tokens]\n",
    "\n",
    "'''remove punctuation, lowercase, stem'''\n",
    "def normalize(text):\n",
    "    return stem_tokens(nltk.word_tokenize(text.lower().translate(remove_punctuation_map)))\n",
    "\n",
    "vectorizer = TfidfVectorizer(tokenizer=normalize, stop_words='english')\n",
    "\n",
    "def cosine_sim(text1, text2):\n",
    "    tfidf = vectorizer.fit_transform([text1, text2])\n",
    "    return ((tfidf * tfidf.T).A)[0,1]"
   ]
  },
  {
   "cell_type": "code",
   "execution_count": 281,
   "id": "885aae36",
   "metadata": {},
   "outputs": [],
   "source": [
    "AUTO = tf.data.experimental.AUTOTUNE\n",
    "strategy = tf.distribute.OneDeviceStrategy(\"GPU\")  # or \"GPU\" if available\n",
    "# No need to connect to TPU or initialize TPU system"
   ]
  },
  {
   "cell_type": "code",
   "execution_count": 282,
   "id": "969e5fc0",
   "metadata": {},
   "outputs": [
    {
     "name": "stdout",
     "output_type": "stream",
     "text": [
      "Tokenizer and vocabulary saved successfully.\n"
     ]
    }
   ],
   "source": [
    "from transformers import DistilBertTokenizer\n",
    "\n",
    "tokenizer = DistilBertTokenizer.from_pretrained('distilbert-base-uncased')\n",
    "\n",
    "# Save the tokenizer and its vocabulary\n",
    "save_path = 'distilbert_base_uncased/'\n",
    "tokenizer.save_pretrained(save_path)\n",
    "\n",
    "print(\"Tokenizer and vocabulary saved successfully.\")\n"
   ]
  },
  {
   "cell_type": "code",
   "execution_count": 283,
   "id": "a469fb8d",
   "metadata": {},
   "outputs": [
    {
     "data": {
      "text/plain": [
       "Tokenizer(vocabulary_size=30522, model=BertWordPiece, unk_token=[UNK], sep_token=[SEP], cls_token=[CLS], pad_token=[PAD], mask_token=[MASK], clean_text=True, handle_chinese_chars=True, strip_accents=None, lowercase=True, wordpieces_prefix=##)"
      ]
     },
     "execution_count": 283,
     "metadata": {},
     "output_type": "execute_result"
    }
   ],
   "source": [
    "# First load the real tokenizer\n",
    "tokenizer = transformers.BertTokenizer.from_pretrained('bert-base-uncased')\n",
    "\n",
    "# Save the loaded tokenizer locally\n",
    "save_path = '/kaggle/working/distilbert_base_uncased/'\n",
    "if not os.path.exists(save_path):\n",
    "    os.makedirs(save_path)\n",
    "tokenizer.save_pretrained(save_path)\n",
    "\n",
    "# Reload it with the huggingface tokenizers library\n",
    "fast_tokenizer = BertWordPieceTokenizer('distilbert_base_uncased/vocab.txt', lowercase=True)\n",
    "fast_tokenizer"
   ]
  },
  {
   "cell_type": "code",
   "execution_count": 284,
   "id": "2773942c",
   "metadata": {},
   "outputs": [],
   "source": [
    "complaints=[\"The quality of food in the cafeteria has consistently been subpar and unsatisfactory, with tasteless and unappetizing options that fail to meet the basic expectations of employees. Despite numerous complaints and feedback, there has been no improvement in the overall food quality and variety provided.\",\n",
    "\"Employees have repeatedly raised concerns about the lack of variety and innovation in the cafeteria menu, as it remains stagnant and offers the same limited choices day after day. The repetitive menu options fail to cater to diverse tastes and dietary preferences, resulting in dissatisfaction and disappointment among employees.\",\n",
    "\"Hygiene and cleanliness have been major issues in the cafeteria, with frequent instances of dirty utensils, unclean food preparation areas, and unhygienic practices observed by employees. This not only compromises the overall dining experience but also poses serious health risks, including foodborne illnesses, which have been reported by some employees.\",\n",
    "\"The exorbitant prices charged in the cafeteria are a source of frustration and financial burden for employees. Despite the high prices, the quality and variety of food remain inadequate, making it difficult for employees to justify the hefty expenses incurred for meals during work hours.\",\n",
    "\"The seating area in the cafeteria is consistently overcrowded and uncomfortable, with limited space and insufficient seating arrangements for the growing number of employees. This not only creates a stressful dining experience but also hampers social interactions and employee well-being during lunch breaks.\",\n",
    "\"The service in the cafeteria has been consistently slow, inefficient, and lacking in customer focus. Employees often have to endure long wait times, especially during peak hours, which significantly disrupts their work schedules and productivity.\",\n",
    "\"The cafeteria fails to prioritize healthy and nutritious food options, with a major focus on greasy, fried, and unhealthy choices. This lack of consideration for employee well-being and dietary preferences contributes to an unhealthy work environment and undermines efforts to promote a healthy work-life balance.\",\n",
    "\"Employees with specific dietary restrictions, such as vegetarians or vegans, face significant challenges in finding suitable options in the cafeteria. The lack of dedicated food stations or clearly labeled choices for different dietary needs further exacerbates the issue, leading to frustration and dissatisfaction among employees.\",\n",
    "\"The cafeteria's failure to provide accurate and comprehensive allergen labeling poses serious risks to individuals with food allergies. Employees with allergies face a constant threat to their health and safety, as the absence of proper labeling increases the likelihood of accidental consumption of allergens.\",\n",
    "\"Parking remains a persistent issue in the company, with an inadequate number of parking spaces available for employees. The scarcity of parking spots often forces employees to spend a considerable amount of time searching for parking, leading to delays in reaching their workstations and increased stress levels.\",\n",
    "\"The parking lot's lack of proper maintenance and neglect has resulted in deteriorating conditions, with potholes, uneven surfaces, and insufficient lighting. This not only damages employees' vehicles but also poses safety hazards, especially during early mornings and late evenings when visibility is reduced.\",\n",
    "\"Employees express frustration over the high parking fees imposed by the company, which they perceive as excessive and unfair. The financial burden of these fees adds additional strain to employees' budgets and further contributes to their dissatisfaction with the company's parking policies.\",\n",
    "\"Inadequate parking lot lighting poses significant safety concerns for employees, particularly during darker hours. The poorly lit parking areas create an unsafe environment, making employees feel vulnerable to theft or accidents while walking to and from their vehicles.\",\n",
    "\"The company's parking lot security measures are insufficient, leading to instances of vehicle theft and vandalism. Employees have reported incidents of break-ins and damage to their vehicles, which raises concerns about their safety and security while parked on company premises.\",\n",
    "\"The distance between the parking lot and the office building is a major inconvenience for employees, as it adds significant travel time and effort to their daily routine. This long commute between the parking area and the workplace negatively impacts punctuality and overall employee satisfaction.\",\n",
    "\"Work relationships within the company are strained due to a lack of team-building activities or social events. The absence of such initiatives hinders the development of stronger bonds and camaraderie among employees, ultimately impacting collaboration and teamwork in the workplace.\",\n",
    "\"The workplace culture has been described as toxic, with instances of favoritism, gossip, and a lack of respect among colleagues. This detrimental work environment erodes employee morale, leads to conflicts, and adversely affects overall job satisfaction.\",\n",
    "\"Bullying or harassment incidents have been reported within the company, with management failing to take appropriate measures to address and resolve such cases. The lack of prompt action creates a hostile work environment, leading to distress and a sense of insecurity among employees.\",\n",
    "\"Employees feel limited in their professional growth and skill enhancement due to the company's limited opportunities for training and development. The lack of investment in employees' learning and advancement hinders career progression and creates a sense of stagnation.\",\n",
    "\"The absence of mentoring or coaching programs leaves employees without proper guidance and support for their professional growth. The lack of experienced mentors to provide advice and nurture talent hampers employee development and inhibits their potential.\",\n",
    "\"Cross-functional or cross-departmental training is not prioritized by the company, leading to a siloed work environment and hindering collaboration and knowledge sharing. The absence of opportunities to learn from colleagues in different roles or departments limits employees' exposure and growth potential.\",\n",
    "\"The company's work-from-home policy lacks clarity and consistency in its implementation, causing confusion and frustration among employees. The absence of clear guidelines and expectations for remote work arrangements makes it challenging for employees to balance work and personal commitments effectively.\",\n",
    "\"Employees report being consistently expected to work long hours and weekends without proper compensation or recognition for their extra efforts. The company's lack of acknowledgment for employees' dedication and commitment to their work contributes to increased stress levels and work-life imbalance.\",\n",
    "\"The company's rigid work schedule and lack of flexibility make it challenging for employees to balance personal commitments and work responsibilities. The absence of flexible working hours or remote work options limits employees' ability to manage their personal and professional lives effectively.\",\n",
    "\"The management team's lack of clear direction and frequent changes in priorities create confusion and inefficiency among employees. The absence of consistent leadership and strategic decision-making undermines employee morale and hampers their ability to perform effectively.\",\n",
    "\"Managers within the company often exhibit a tendency to micromanage employees, failing to delegate tasks effectively and stifling employee autonomy. This excessive control and lack of trust in employees' abilities negatively impact job satisfaction and hinder creativity and innovation.\",\n",
    "\"Employees feel undervalued and unappreciated due to the lack of recognition and acknowledgement for their hard work and accomplishments. The absence of a culture that celebrates employee contributions diminishes morale and diminishes motivation.\",\n",
    "\"The company provides outdated technology and equipment that hinders employee productivity and efficiency. Employees struggle to perform their duties effectively due to slow and unreliable systems that impede their workflow and increase frustration.\",\n",
    "\"Hardware and software provided by the company are often unreliable, frequently crashing or malfunctioning. This disrupts employees' work, resulting in wasted time and decreased productivity.\",\n",
    "\"Employees experience ongoing technical difficulties due to the outdated and inadequate technology provided by the company. These persistent issues create frustration and hinder employees' ability to perform their tasks efficiently.\",\n",
    "\"The company fails to prioritize the regular updating and upgrading of technology, leaving employees with outdated tools and software that hinder their performance and productivity.\",\n",
    "\"Employees frequently encounter difficulties due to the company's failure to provide necessary materials and resources to perform their job duties effectively. The lack of essentia supplies and equipment negatively impacts employee efficiency and job satisfaction.\",\n",
    "\"The cafeteria in the company consistently serves subpar food that lacks taste and nutritional value. Employees are dissatisfied with the quality of meals provided, which affects their overall well-being and energy levels during work hours.\",\n",
    "\"The hygiene standards in the cafeteria are below expectations, with reports of unclean tables, dirty utensils, and unattended spills. The lack of cleanliness creates an unsanitary environment that raises concerns about food safety and employee health.\",\n",
    "\"The parking facilities provided by the company are insufficient to accommodate the number of employees, leading to frequent parking shortages and limited availability of parking spaces. Employees struggle to find parking spots, resulting in frustration and delays in their daily commute.\",\n",
    "\"The parking areas lack proper lighting and security measures, leaving employees feeling unsafe when arriving or leaving the premises during early mornings or late evenings. The absence of adequate lighting and security jeopardizes employee well-being and raises security concerns.\",\n",
    "\"Employees frequently encounter issues with malfunctioning parking gates or ticketing systems, causing delays and inconvenience during entry or exit from the parking lot. The faulty systems contribute to traffic congestion and frustration among employees.\",\n",
    "\"The company's parking policy lacks clarity and consistency, with ambiguous guidelines regarding parking permits, designated areas, and visitor parking. The lack of clear instructions adds confusion and frustration for employees trying to comply with parking regulations.\",\n",
    "\"Employees often face difficulties in finding suitable parking spaces for individuals with disabilities. The lack of accessible parking spots or designated areas poses challenges for employees with mobility issues and goes against inclusivity principles.\",\n",
    "\"The relationship between employees and management is strained due to a lack of open communication channels. Employees feel unheard and unvalued, as their feedback and suggestions are not given proper consideration. This communication gap affects morale and engagement within the company.\",\n",
    "\"The company's decision-making process is opaque and lacks transparency, leading to feelings of distrust among employees. Decisions are made without clear justification or explanation, leaving employees feeling excluded from important discussions and disempowered.\",\n",
    "\"Employees feel undervalued and unappreciated, as the company fails to recognize their efforts and provide opportunities for growth and advancement. The lack of career development prospects and reward systems impacts employee motivation and loyalty.\",\n",
    "\"Workload distribution within the company is highly imbalanced, with some employees consistently burdened with excessive workloads while others have lighter responsibilities. The inequitable distribution leads to stress, burnout, and decreased productivity among overburdened employees.\",\n",
    "\"The company lacks proper systems for workload prioritization and task allocation, resulting in duplicated efforts and delays. Employees struggle to manage their tasks efficiently, leading to decreased efficiency and frustration.\",\n",
    "\"The company's performance evaluation process is flawed, with infrequent feedback and lack of constructive guidance for professional growth. Employees feel disoriented and uncertain about their progress and are unable to align their goals with organizational expectations.\",\n",
    "\"The training programs provided by the company are insufficient to meet employees' skill development needs. There is a lack of comprehensive training initiatives that cater to various job roles and industry advancements, hindering employees' professional growth.\",\n",
    "\"The company overlooks the importance of mentorship and coaching programs, leaving employees without guidance and support for their career development. The absence of mentorship opportunities limits employees' potential and hampers their long-term success.\",\n",
    "\"The company fails to promote cross-functional collaboration and knowledge sharing among employees. Siloed departments and limited opportunities for cross-training lead to inefficiencies, missed opportunities, and hindered innovation.\",\n",
    "\"The company's work-from-home policy lacks flexibility and fails to accommodate employees' individual needs. There is a lack of understanding and consideration for employees' work-life balance, resulting in increased stress and reduced job satisfaction.\",\n",
    "\"Employees are consistently expected to work long hours, including weekends, without adequate compensation or recognition. The company's lack of appreciation for employees' dedication and work-life balance negatively impacts morale and employee well-being.\",\n",
    "\"The company's technology infrastructure is outdated and hampers employee productivity. Slow and malfunctioning systems, obsolete software, and insufficient hardware resources contribute to frustration and hinder workflow efficiency.\",\n",
    "\"The company's equipment and materials are outdated, unreliable, and in need of repair or replacement. Employees struggle with faulty computers, printers, and other essential tools, impacting their ability to perform their tasks efficiently.\",\n",
    "\"The company's procurement process for technology and materials is inefficient and slow, resulting in delayed access to necessary resources. Employees face unnecessary obstacles and delays in acquiring the tools and materials needed for their work.\"\n",
    "\"The cafeteria in the company consistently serves tasteless and poorly prepared meals that leave employees unsatisfied and hungry. The lack of flavor and culinary creativity in the food offerings dampens employee morale and enjoyment during meal times.\",\n",
    "\"The hygiene standards in the cafeteria are severely lacking, with reports of unclean food preparation areas, dirty serving utensils, and unhygienic food handling practices. Employees are concerned about the risk of foodborne illnesses and the overall cleanliness of the cafeteria environment.\",\n",
    "\"The parking situation in the company is chaotic and disorganized, with frequent instances of unauthorized vehicles occupying designated parking spots. Employees struggle to find available parking spaces, leading to frustration and delays in starting their workday.\",\n",
    "\"The parking lots lack proper maintenance, with potholes, inadequate lighting, and unclear signage. Employees have to navigate through poorly maintained areas, increasing the risk of accidents and damage to their vehicles.\",\n",
    "\"The company's parking policy is overly restrictive and inflexible, with limited options for alternative transportation or carpooling. Employees feel burdened by strict regulations and the lack of consideration for their commuting needs.\",\n",
    "\"Employees often encounter broken or malfunctioning hardware and equipment in their workstations. The lack of timely repairs or replacements hinders productivity and creates frustration as employees are unable to perform their tasks effectively.\",\n",
    "\"The company's technology infrastructure is outdated and incompatible with modern software and applications. This results in frequent system crashes, compatibility issues, and limitations in accessing essential tools and resources.\",\n",
    "\"The company fails to provide adequate training and support for employees to effectively utilize new technologies and tools. Employees struggle with the learning curve and are unable to fully leverage the available technology, impacting their efficiency and performance.\",\n",
    "\"Employees feel overwhelmed and overburdened with excessive workloads, unrealistic deadlines, and constant multitasking. The lack of resource allocation and work prioritization leads to stress, decreased productivity, and a negative impact on work-life balance.\",\n",
    "\"Communication within the company is ineffective and fragmented, with a lack of clear and timely information flow. Employees are left uninformed about important updates, changes, and decisions, leading to confusion and misunderstandings.\",\n",
    "\"The company's leadership is disconnected from the needs and concerns of the employees. There is a lack of open-door policy and transparent communication, leaving employees feeling unheard and undervalued.\",\n",
    "\"Managers in the company lack the necessary leadership and people management skills to motivate and inspire their teams. Employees feel demotivated and unengaged, leading to decreased morale and subpar performance.\",\n",
    "\"The company lacks a comprehensive employee recognition and reward system. Employees' hard work and achievements go unnoticed, leading to a lack of motivation and a sense of underappreciation.\",\n",
    "\"The company's onboarding and orientation process for new employees is inadequate. New hires feel overwhelmed and ill-prepared to navigate their roles and responsibilities, hindering their integration into the company.\",\n",
    "\"The company disregards employee well-being and fails to provide adequate support for work-life balance. Employees struggle to manage personal commitments and work responsibilities, leading to increased stress and burnout.\",\n",
    "\"Employees face discriminatory practices and biases within the company, resulting in unequal treatment and limited opportunities for certain individuals or marginalized groups. The lack of inclusivity and diversity negatively impacts employee morale and organizational culture.\",\n",
    "\"The company's performance evaluation process lacks transparency and fairness. Employees perceive favoritism and biased assessments, leading to demotivation and a lack of trust in the performance management system.\",\n",
    "\"Employees feel the company lacks a clear career development path, with limited opportunities for growth and advancement. The absence of clear progression guidelines leaves employees feeling stagnant and unfulfilled in their roles.\",\n",
    "\"The company's training programs are outdated and fail to address the evolving needs and skills required for employees' professional development. Employees lack access to relevant and up-to-date training opportunities.\",\n",
    "\"The company's work environment is riddled with office politics, cliques, and favoritism. Employees feel alienated and excluded, which negatively impacts teamwork and collaboration.\",\n",
    "\"The company's HR department lacks responsiveness and fails to address employee concerns and grievances in a timely and satisfactory manner. Employees feel unsupported and discouraged from voicing their concerns.\",\n",
    "\"Employees experience inadequate compensation and benefits packages compared to industry standards. The lack of competitive pay and limited benefits affect employee satisfaction and retention rates.\",\n",
    "\"The company's policies regarding work-life balance are inflexible and fail to accommodate employees' personal needs and responsibilities. The absence of remote work options and flexible schedules hinders employees' ability to achieve a healthy work-life balance.\",\n",
    "\"Employees face a lack of transparency in decision-making processes and company policies. The absence of open communication channels and involvement in decision-making leaves employees feeling disconnected and uninformed.\"\n",
    "\"The cafeteria consistently serves uninspiring and monotonous meals, lacking variety and creativity. Employees are bored with the limited menu options and crave more exciting and diverse food choices.\",\n",
    "\"Hygiene issues in the cafeteria persist, with reports of unclean tables, sticky floors, and unwashed utensils. Employees are concerned about the risk of food contamination and the overall cleanliness of the dining area.\",\n",
    "\"The parking situation in the company is chaotic and frustrating, with limited parking spaces that are always occupied. Employees spend valuable time circling the parking lot, searching for an available spot.\",\n",
    "\"The company fails to provide sufficient parking spaces for employees, forcing them to park in unauthorized areas or far away from the workplace. This leads to inconvenience and safety concerns during the commute.\",\n",
    "\"The company's hardware and equipment are outdated and prone to frequent breakdowns. Employees often encounter malfunctioning computers, printers, and other essential tools, causing delays and hindering productivity.\",\n",
    "\"The technology infrastructure in the company is unreliable and slow, resulting in constant disruptions and delays in accessing necessary software and systems. Employees struggle with system crashes and network outages.\",\n",
    "\"Employees frequently face work overload, with unrealistic deadlines and an excessive number of tasks to complete. The unmanageable workload leads to stress, burnout, and a decline in the quality of work.\",\n",
    "\"Communication gaps and miscommunication within teams and across departments are common, causing delays, misunderstandings, and errors. Employees struggle to collaborate effectively and share information efficiently.\",\n",
    "\"Managers in the company lack the necessary leadership skills to inspire and motivate their teams. Employees feel demotivated and undervalued, leading to decreased morale and job satisfaction.\",\n",
    "\"The company's performance evaluation process lacks transparency and fairness. Employees feel that their contributions are not accurately assessed, leading to a lack of recognition and opportunities for growth.\",\n",
    "\"There is a lack of team-building activities and events to foster stronger relationships among employees. The absence of social interactions hinders teamwork, collaboration, and a positive work environment.\",\n",
    "\"The company's culture promotes unhealthy competition and a lack of cooperation among employees. This results in a toxic work environment, where individuals prioritize personal success over teamwork.\",\n",
    "\"The company overlooks the importance of employee training and development, hindering career advancement and skill enhancement. Employees feel stagnant and unsupported in their professional growth.\",\n",
    "\"Employees lack access to mentorship programs and guidance to enhance their skills and knowledge. The absence of mentorship opportunities negatively affects employee development and progression.\",\n",
    "\"The company's work-from-home policy is unclear and inconsistently implemented. Employees struggle with the lack of guidelines and expectations, impacting their ability to work remotely effectively.\",\n",
    "\"Employees face constant pressure to work long hours and are often expected to be available outside of regular working hours. This leads to work-life imbalance and increased stress levels.\",\n",
    "\"The company fails to prioritize employee well-being and mental health. The lack of resources and support for mental well-being leads to increased stress, anxiety, and decreased job satisfaction.\",\n",
    "\"Managers in the company exhibit a lack of empathy and understanding towards employees' personal challenges and difficulties. This results in a lack of support and flexibility in accommodating employees' needs.\",\n",
    "\"The company's leadership lacks a clear vision and direction, resulting in a lack of alignment and confusion among employees. Employees struggle to understand the company's goals and objectives.\",\n",
    "\"The company's technological tools and equipment are outdated and incompatible with industry standards. Employees face challenges in performing their tasks efficiently and keeping up with technological advancements.\",\n",
    "\"The company's materials and supplies are of poor quality and often fail to meet the employees' needs. This leads to frustration and inefficiencies in completing tasks.\",\n",
    "\"The company lacks proper maintenance of its facilities and infrastructure, resulting in frequent breakdowns and disruptions. Employees experience inconvenience and delays in their daily work due to facility issues.\",\n",
    "\"The company's purchasing process for materials and equipment is slow and inefficient. Employees face delays in receiving necessary supplies, impacting their productivity and ability to meet deadlines.\",\n",
    "\"The company's training programs are outdated and fail to address the evolving needs of employees. Employees feel that the training provided does not equip them with the necessary skills for their roles.\",\n",
    "\"The company's onboarding process for new employees is ineffective and lacks proper guidance and support. New hires struggle to integrate into the company culture and understand their roles and responsibilities.\",\n",
    "\"Employees lack access to cross-functional training opportunities, limiting their ability to collaborate and work effectively with colleagues from different departments.\",\n",
    "\"The company's performance management system lacks transparency and fails to provide meaningful feedback and recognition. Employees feel undervalued and struggle to understand how their performance is evaluated.\",\n",
    "\"The company's recognition and rewards program is inadequate and fails to motivate employees. Employees feel unappreciated and lack incentives for their hard work and contributions.\",\n",
    "\"The company's workplace policies and procedures are outdated and do not reflect the evolving needs of employees. Employees face difficulties in navigating the bureaucratic processes and feel restricted.\",\n",
    "\"Employees experience a lack of trust and transparency in the decision-making process. The absence of employee involvement in important decisions leads to decreased morale and engagement.\",\n",
    "\"The company's HR department lacks responsiveness and fails to address employee concerns and grievances in a timely and satisfactory manner. Employees feel unsupported and discouraged from voicing their concerns.\",\n",
    "\"Employees experience inadequate compensation and benefits packages compared to industry standards. The lack of competitive pay and limited benefits affect employee satisfaction and retention rates.\",\n",
    "\"The company's policies regarding work-life balance are inflexible and fail to accommodate employees' personal needs and responsibilities. The absence of remote work options and flexible schedules hinders employees' ability to achieve a healthy work-life balance.\",\n",
    "\"Employees face a lack of transparency in decision-making processes and company policies. The absence of open communication channels and involvement in decision-making leaves employees feeling disconnected and uninformed.\",\n",
    "\"The cafeteria consistently serves uninspiring and monotonous meals, lacking variety and creativity. Employees are bored with the limited menu options and crave more exciting and diverse food choices.\",\n",
    "\"Hygiene issues in the cafeteria persist, with reports of unclean tables, sticky floors, and unwashed utensils. Employees are concerned about the risk of food contamination and the overall cleanliness of the dining area.\",\n",
    "\"The parking situation in the company is chaotic and frustrating, with limited parking spaces that are always occupied. Employees spend valuable time circling the parking lot, searching for an available spot.\",\n",
    "\"The company fails to provide sufficient parking spaces for employees, forcing them to park in unauthorized areas or far away from the workplace. This leads to inconvenience and safety concerns during the commute.\",\n",
    "\"The company's hardware and equipment are outdated and prone to frequent breakdowns. Employees often encounter malfunctioning computers, printers, and other essential tools, causing delays and hindering productivity.\",\n",
    "\"The technology infrastructure in the company is unreliable and slow, resulting in constant disruptions and delays in accessing necessary software and systems. Employees struggle with system crashes and network outages.\",\n",
    "\"Employees frequently face work overload, with unrealistic deadlines and an excessive number of tasks to complete. The unmanageable workload leads to stress, burnout, and a decline in the quality of work.\",\n",
    "\"Communication gaps and miscommunication within teams and across departments are common, causing delays, misunderstandings, and errors. Employees struggle to collaborate effectively and share information efficiently.\",\n",
    "\"Managers in the company lack the necessary leadership skills to inspire and motivate their teams. Employees feel demotivated and undervalued, leading to decreased morale and job satisfaction.\",\n",
    "\"The company's performance evaluation process lacks transparency and fairness. Employees feel that their contributions are not accurately assessed, leading to a lack of recognition and opportunities for growth.\",\n",
    "\"There is a lack of team-building activities and events to foster stronger relationships among employees. The absence of social interactions hinders teamwork, collaboration, and a positive work environment.\",\n",
    "\"The company's culture promotes unhealthy competition and a lack of cooperation among employees. This results in a toxic work environment, where individuals prioritize personal success over teamwork.\",\n",
    "\"The company overlooks the importance of employee training and development, hindering career advancement and skill enhancement. Employees feel stagnant and unsupported in their professional growth.\",\n",
    "\"Employees lack access to mentorship programs and guidance to enhance their skills and knowledge. The absence of mentorship opportunities negatively affects employee development and progression.\",\n",
    "\"The company's work-from-home policy is unclear and inconsistently implemented. Employees struggle with the lack of guidelines and expectations, impacting their ability to work remotely effectively.\",\n",
    "\"Employees face constant pressure to work long hours and are often expected to be available outside of regular working hours. This leads to work-life imbalance and increased stress levels.\",\n",
    "\"The company fails to prioritize employee well-being and mental health. The lack of resources and support for mental well-being leads to increased stress, anxiety, and decreased job satisfaction.\",\n",
    "\"Managers in the company exhibit a lack of empathy and understanding towards employees' personal challenges and difficulties. This results in a lack of support and flexibility in accommodating employees' needs.\",\n",
    "\"The company's leadership lacks a clear vision and direction, resulting in a lack of alignment and confusion among employees. Employees struggle to understand the company's goals and objectives.\",\n",
    "\"The company's technological tools and equipment are outdated and incompatible with industry standards. Employees face challenges in performing their tasks efficiently and keeping up with technological advancements.\",\n",
    "\"The company's materials and supplies are of poor quality and often fail to meet the employees' needs. This leads to frustration and inefficiencies in completing tasks.\",\n",
    "\"The company lacks proper maintenance of its facilities and infrastructure, resulting in frequent breakdowns and disruptions. Employees experience inconvenience and delays in their daily work due to facility issues.\",\n",
    "\"The company's purchasing process for materials and equipment is slow and inefficient. Employees face delays in receiving necessary supplies, impacting their productivity and ability to meet deadlines.\",\n",
    "\"The company's IT support is unresponsive and fails to address employees' technical issues in a timely manner. Employees experience prolonged downtime and decreased productivity as a result.\",\n",
    "\"The company's training programs lack relevance and fail to provide employees with the necessary skills and knowledge for their roles. Employees feel ill-equipped to perform their duties effectively.\",\n",
    "\"The company's performance appraisal system is subjective and lacks transparency. Employees feel that their performance evaluations are biased, hindering their career growth and advancement.\",\n",
    "\"The company's workplace environment is noisy and distractive, making it difficult for employees to concentrate and focus on their work. The lack of a quiet and peaceful work area affects productivity.\",\n",
    "\"Employees experience frequent power outages and disruptions in the company's infrastructure. The unstable electrical system leads to interrupted work and data loss, impacting employee efficiency.\",\n",
    "\"The company's furniture and seating arrangements are uncomfortable and ergonomically unsuitable. Employees suffer from back pain and discomfort due to inadequate seating options.\",\n",
    "\"The company's network security measures are insufficient, leading to frequent data breaches and security risks. Employees are concerned about the confidentiality and integrity of their work-related information.\",\n",
    "\"The company's project management practices are disorganized and lack structure. Employees struggle with unclear priorities, changing deadlines, and misaligned expectations, resulting in project delays.\",\n",
    "\"The company's communication channels, such as emails and messaging systems, frequently experience technical glitches and delays in message delivery. This hinders effective communication and collaboration among employees.\",\n",
    "\"The company's policies regarding vacation and time-off requests are restrictive and inflexible. Employees face challenges in taking time off for personal reasons or emergencies, leading to increased stress levels.\",\n",
    "\"The company's recruitment and hiring process is inefficient and time-consuming. Employees experience delays in filling vacant positions, resulting in increased workload and stretched resources.\",\n",
    "\"The company's travel expense reimbursement process is complicated and slow. Employees face delays in receiving reimbursements for business-related travel expenses, causing financial strain.\",\n",
    "\"The company's decision-making processes are slow and bureaucratic. Employees experience delays in obtaining approvals and decisions, impacting their ability to execute tasks efficiently.\",\n",
    "\"The company's customer service department lacks responsiveness and fails to address employee concerns and inquiries in a timely manner. Employees feel unsupported and frustrated with the lack of assistance.\",\n",
    "\"The company's dress code policy is outdated and restrictive. Employees feel limited in expressing their individuality and personal style, leading to decreased morale and self-expression.\",\n",
    "\"The company's facilities lack proper ventilation and air conditioning, resulting in uncomfortable working conditions. Employees struggle with high temperatures and poor air quality, impacting their focus and well-being.\",\n",
    "\"Employees feel a lack of autonomy and decision-making authority in their roles. The absence of empowerment leads to decreased job satisfaction and motivation to take ownership of their work.\",\n",
    "\"The company's supplier management process is inefficient and leads to delays in receiving necessary materials and goods. Employees face challenges in meeting deadlines and fulfilling customer orders.\",\n",
    "\"The company's performance incentives and bonuses are not aligned with employee performance and achievements. Employees feel that their hard work and accomplishments are not adequately recognized and rewarded.\",\n",
    "\"The company's conflict resolution processes are ineffective, resulting in unresolved conflicts among employees. The lack of mediation and resolution leads to tension and strained relationships within the workplace.\",\n",
    "\"The company's maternity and paternity leave policies are inadequate and fail to support employees during important life transitions. Employees feel unsupported in balancing their work and family responsibilities.\",\n",
    "\"The company's diversity and inclusion initiatives are minimal, leading to a lack of representation and inclusivity. Employees feel that their voices and perspectives are not valued or considered.\",\n",
    "\"The company's employee benefits package is subpar compared to industry standards. Employees feel undervalued and struggle to access necessary healthcare and wellness resources.\",\n",
    "\"The company's employee performance development plans are vague and lack clarity. Employees are unsure about their career paths and opportunities for growth within the organization.\",\n",
    "\"The company's corporate social responsibility initiatives are insufficient. Employees feel that the company should do more to give back to the community and address social and environmental issues.\",\n",
    "\"The company's disciplinary actions are inconsistent and lack transparency. Employees feel uncertain about the consequences of their actions and the fairness of disciplinary measures.\",\n",
    "\"The company's office layout and design are uninspiring and lack creativity. Employees feel demotivated in an environment that does not foster creativity and innovation.\",\n",
    "\"The company's reimbursement process for work-related expenses is slow and cumbersome. Employees face delays in receiving reimbursements, leading to financial strain and dissatisfaction.\",\n",
    "\"The company's performance metrics and KPIs are unrealistic and unattainable. Employees feel undue pressure to meet unachievable targets, leading to stress and decreased job satisfaction.\",\n",
    "\"The company's team dynamics are problematic, with conflicts and lack of collaboration. Employees struggle to work effectively together, impacting overall team performance and results.\",\n",
    "\"The company's recognition and rewards program is inconsistent and lacks transparency. Employees feel that the criteria for recognition are unclear, leading to dissatisfaction and demotivation.\",\n",
    "\"The company's annual performance review process is lengthy and bureaucratic. Employees feel that the process is time-consuming and does not provide meaningful feedback for growth and improvement.\",\n",
    "\"The company's supply chain management is inefficient and leads to delays in receiving necessary materials. Employees face challenges in meeting production deadlines and satisfying customer demands.\",\n",
    "\"The company's equipment maintenance and repair services are unreliable and slow. Employees experience delays in getting their equipment fixed, causing interruptions in their work.\",\n",
    "\"The company's compliance and regulatory processes are complex and burdensome. Employees struggle to navigate the requirements, leading to potential legal risks and penalties.\",\n",
    "\"The company's data management practices are inadequate, leading to data breaches and privacy concerns. Employees are worried about the security of their personal and work-related information.\",\n",
    "\"The company's leadership team lacks diversity and representation. Employees feel that different perspectives and experiences are not adequately represented at the leadership level.\",\n",
    "\"The company's facilities lack proper restroom maintenance, with dirty facilities and inadequate supplies. Employees feel discomfort and embarrassment due to the lack of hygienic restroom conditions.\",\n",
    "\"The company's performance feedback process is infrequent and lacks specificity. Employees feel that they do not receive timely and constructive feedback to improve their performance.\",\n",
    "\"The company's expense reimbursement policy is restrictive and fails to cover necessary expenses incurred during work-related activities. Employees face financial burden and limited resources.\",\n",
    "\"The company's goal-setting process is unclear and lacks alignment with employee roles and responsibilities. Employees struggle to understand how their individual goals contribute to the company's objectives.\",\n",
    "\"The company's customer complaint resolution process is inefficient and lacks responsiveness. Employees find it challenging to resolve customer issues in a timely and satisfactory manner.\",\n",
    "\"The company's internal communication channels are ineffective, leading to information gaps and miscommunication among employees. Employees struggle to stay informed and connected with the company's updates.\",\n",
    "\"The company's promotional opportunities are limited, leading to a lack of career growth and advancement. Employees feel stagnant in their roles and are discouraged from pursuing new opportunities.\",\n",
    "\"The company's performance recognition is biased and inconsistent. Employees feel that favoritism plays a role in determining who receives recognition and rewards.\",\n",
    "\"The company's training materials and resources are outdated and fail to address current industry trends. Employees feel that the training provided does not equip them with relevant skills.\",\n",
    "\"The company's decision-making processes are hierarchical and slow, inhibiting innovation and agility. Employees feel frustrated by the lack of involvement and influence in important decisions.\",\n",
    "\"The company's employee engagement initiatives are inadequate, resulting in low morale and reduced productivity. Employees feel disconnected and disengaged from the company's mission and goals.\",\n",
    "\"The company's resource allocation is unfair and lacks transparency. Employees feel that resources are not distributed equitably, leading to disparities in workload and opportunities.\",\n",
    "\"The company's performance evaluation criteria are unclear and subjective. Employees feel that their evaluations are based on subjective opinions rather than objective measures of performance.\",\n",
    "\"The company's workspaces lack privacy and proper soundproofing. Employees struggle with distractions and noise, impacting their concentration and productivity.\",\n",
    "\"The company's professional development opportunities are limited, leaving employees with limited avenues for skill enhancement and career growth.\",\n",
    "\"The company's financial compensation is below industry standards, leading to dissatisfaction and increased turnover rates among employees.\",\n",
    "\"The company's onboarding process is disorganized and fails to provide new hires with the necessary information and resources to succeed in their roles.\",\n",
    "\"The company's project prioritization process is flawed, leading to conflicting priorities and ineffective resource allocation. Employees struggle to understand which projects to prioritize and focus on.\",\n",
    "\"The company's facilities lack proper security measures, leading to concerns about the safety of employees and their belongings.\",\n",
    "\"The company's code of conduct is vague and lacks clarity, leaving employees unsure of what behavior is expected of them.\",\n",
    "\"The company's performance-based rewards are inconsistent and fail to provide meaningful incentives for employees to excel in their roles.\",\n",
    "\"The company's feedback culture is non-existent, with a lack of open and constructive feedback among employees and managers.\",\n",
    "\"The company's communication channels are outdated and unreliable, leading to difficulties in sharing important information and updates with employees.\",\n",
    "\"The company's promotions and career advancement opportunities are biased and favor certain individuals, leading to a lack of equal opportunities for all employees.\",\n",
    "\"The company's performance goals and targets are unrealistic and unattainable, causing employees to feel demotivated and overwhelmed.\",\n",
    "\"The company's procurement process is slow and inefficient, resulting in delays in obtaining necessary materials and supplies for employees.\",\n",
    "\"The company's decision-making processes are centralized and lack employee input, leading to a lack of ownership and commitment from employees.\",\n",
    "\"The company's recognition and rewards program is poorly communicated, leaving employees unaware of the criteria for recognition and rewards.\",\n",
    "\"The company's organizational structure is hierarchical and inhibits communication and collaboration across departments.\",\n",
    "\"The company's communication strategy is one-way and lacks opportunities for employee feedback and input.\",\n",
    "\"The company's work environment lacks diversity and inclusion, leading to a lack of perspectives and ideas.\",\n",
    "\"The company's professional development opportunities are limited to certain job roles or departments, leaving other employees without access to growth opportunities.\",\n",
    "\"The company's workload distribution is uneven, leading to burnout and stress for some employees while others have lighter workloads.\",\n",
    "\"The company's promotion process lacks transparency, leading to feelings of unfairness and favoritism among employees.\",\n",
    "\"The company's decision-making processes are slow and bureaucratic, causing delays in implementing necessary changes and improvements.\",\n",
    "\"The company's performance management system is overly focused on individual achievements rather than team collaboration and success.\",\n",
    "\"The company's management style is autocratic and micromanaging, stifling employee creativity and innovation.\",\n",
    "\"The company's IT infrastructure is outdated and hinders employees' ability to work efficiently and effectively.\",\n",
    "\"The company's business goals and objectives are unclear and poorly communicated, leaving employees unsure of the company's direction.\",\n",
    "\"The company's employee benefits package is limited and does not adequately meet employees' needs and expectations.\",\n",
    "\"The company's work schedules and shift rotations are inflexible, making it difficult for employees to balance work and personal obligations.\",\n",
    "\"The company's remote work policy is restrictive and does not provide sufficient flexibility for employees to work from home or remotely.\",\n",
    "\"The company's decision-making processes are influenced by politics and personal biases, rather than objective criteria and data.\",\n",
    "\"The company's organizational culture is toxic, with a lack of trust, respect, and open communication among employees.\",\n",
    "\"The company's performance metrics and targets are unrealistic and do not take into account external factors or constraints that impact employees' ability to achieve them.\",\n",
    "\"The company's career development opportunities are limited, with few options for employees to grow and advance within the organization.\",\n",
    "\"The company's job roles and responsibilities are poorly defined, leading to confusion and overlap in tasks among employees.\",\n",
    "\"The company's leadership team lacks visibility and accessibility, leading to a lack of guidance and support for employees.\",\n",
    "\"The company's decision-making processes are centralized, with limited input and involvement from employees at lower levels.\",\n",
    "\"The company's training and development programs are outdated and fail to address the evolving needs and skills required in the industry.\",\n",
    "\"The company's employee performance evaluation process lacks transparency and objective criteria, leading to perceived favoritism and bias.\",\n",
    "\"The company's communication channels are fragmented and lack integration, making it difficult for employees to access important information and updates.\",\n",
    "\"The company's disciplinary actions and policies are inconsistent and lack clear guidelines, leading to confusion and uncertainty among employees.\",\n",
    "\"The company's employee engagement initiatives are ineffective and fail to foster a sense of belonging and motivation among employees.\",\n",
    "\"The company's workspaces are overcrowded and lack sufficient space for employees to work comfortably and efficiently.\",\n",
    "\"The company's travel policies are restrictive and make it challenging for employees to fulfill their job responsibilities effectively while traveling.\",\n",
    "\"The company's IT support services are inadequate and slow to respond to employees' technical issues and needs.\",\n",
    "\"The company's performance evaluation criteria are unclear and not aligned with employees' roles and responsibilities.\",\n",
    "\"The company's management team lacks diversity and representation, resulting in limited perspectives and ideas in decision-making processes.\",\n",
    "\"The company's decision-making processes are bureaucratic and slow, causing delays in implementing necessary changes and improvements.\",\n",
    "\"The company's internal communication is top-down and lacks opportunities for employees to provide feedback and contribute ideas.\",\n",
    "\"The company's performance-based incentives and rewards are not aligned with employees' individual goals and priorities.\",\n",
    "\"The company's organizational structure is rigid and hierarchical, hindering collaboration and innovation among employees.\",\n",
    "\"The company's employee recognition program is inconsistent and fails to acknowledge and appreciate employees' efforts and contributions.\",\n",
    "\"The company's training and development opportunities are limited, leaving employees without the necessary skills and knowledge to excel in their roles.\",\n",
    "\"The company's performance feedback is infrequent and lacks specificity, making it difficult for employees to understand areas for improvement.\",\n",
    "\"The company's decision-making processes are opaque and lack transparency, leading to a lack of trust and buy-in from employees.\",\n",
    "\"The company's work-life balance policies are inadequate, with employees struggling to maintain a healthy equilibrium between work and personal life.\",\n",
    "\"The company's delegation of tasks and responsibilities is ineffective, leading to a lack of clarity and accountability among employees.\",\n",
    "\"The company's communication culture is non-collaborative, with a lack of sharing information and knowledge among employees.\",\n",
    "\"The company's employee recognition programs are limited to monetary rewards, neglecting the importance of non-financial recognition and appreciation.\",\n",
    "\"The company's training programs are generic and fail to address specific skill gaps and developmental needs of employees.\",\n",
    "\"The company's decision-making processes are decentralized and lack clear guidelines, resulting in inconsistency and confusion among employees.\",\n",
    "\"The company's team-building activities are infrequent and fail to foster strong relationships and collaboration among employees.\",\n",
    "\"The company's leadership style is authoritarian, with little input or involvement from employees in decision-making processes.\",\n",
    "\"The company's employee performance evaluation process is subjective and lacks objectivity and fairness.\",\n",
    "\"The company's resources and support for employee well-being are insufficient, leading to increased stress and burnout among employees.\",\n",
    "\"The company's feedback mechanisms are inadequate, with employees lacking opportunities to provide input and suggest improvements.\",\n",
    "\"The company's performance goals are unrealistic and unattainable, leading to a lack of motivation and decreased morale among employees.\",\n",
    "\"The company's recruitment process is slow and inefficient, resulting in difficulties in attracting and hiring qualified candidates.\",\n",
    "\"The company's team communication is ineffective, with a lack of clarity and coordination in work-related discussions and updates.\",\n",
    "\"The company's decision-making processes are risk-averse, inhibiting innovation and creativity among employees.\",\n",
    "\"The company's professional growth opportunities are limited to specific departments or roles, leaving other employees with limited avenues for advancement.\",\n",
    "\"The company's performance evaluations lack constructive feedback and developmental guidance for employees to improve their skills and performance.\",\n",
    "\"The company's work environment lacks inclusivity and diversity, leading to a lack of representation and cultural sensitivity.\",\n",
    "\"The company's project planning and resource allocation are ineffective, resulting in frequent delays and missed deadlines.\",\n",
    "\"The company's communication channels are overwhelmed with irrelevant information, making it challenging for employees to filter and find important messages.\",\n",
    "\"The company's employee recognition program is inconsistent and lacks transparency in the selection and rewards process.\",\n",
    "\"The company's decision-making processes are excessively bureaucratic and slow, hindering timely actions and responsiveness.\",\n",
    "\"The company's performance evaluation system is heavily focused on quantitative metrics, neglecting qualitative aspects of employees' contributions.\",\n",
    "\"The company's workload expectations are unrealistic and lead to employee burnout and decreased productivity.\",\n",
    "\"The company's feedback culture is non-existent, with a lack of open and constructive feedback among employees and managers.\",\n",
    "\"The company's communication channels are outdated and unreliable, leading to difficulties in sharing important information and updates with employees.\",\n",
    "\"The company's promotions and career advancement opportunities are biased and favor certain individuals, leading to a lack of equal opportunities for all employees.\",\n",
    "\"The company's performance goals and targets are unrealistic and unattainable, causing employees to feel demotivated and overwhelmed.\",\n",
    "\"The company's procurement process is slow and inefficient, resulting in delays in obtaining necessary materials and supplies for employees.\",\n",
    "\"The company's decision-making processes are influenced by politics and personal biases, rather than objective criteria and data.\",\n",
    "\"The company's organizational culture is toxic, with a lack of trust, respect, and open communication among employees.\",\n",
    "\"The company's performance metrics and targets are unrealistic and do not take into account external factors or constraints that impact employees' ability to achieve them.\",\n",
    "\"The company's career development opportunities are limited, with few options for employees to grow and advance within the organization.\",\n",
    "\"The company's job roles and responsibilities are poorly defined, leading to confusion and overlap in tasks among employees.\",\n",
    "\"The company's leadership team lacks visibility and accessibility, leading to a lack of guidance and support for employees.\",\n",
    "\"The company's decision-making processes are centralized, with limited input and involvement from employees at lower levels.\",\n",
    "\"The company's training and development programs are outdated and fail to address the evolving needs and skills required in the industry.\",\n",
    "\"The company's employee performance evaluation process lacks transparency and objective criteria, leading to perceived favoritism and bias.\",\n",
    "\"The company's communication channels are fragmented and lack integration, making it difficult for employees to access important information and updates.\",\n",
    "\"The company's disciplinary actions and policies are inconsistent and lack clear guidelines, leading to confusion and uncertainty among employees.\",\n",
    "\"The company's employee engagement initiatives are ineffective and fail to foster a sense of belonging and motivation among employees.\",\n",
    "\"The company's workspaces are overcrowded and lack sufficient space for employees to work comfortably and efficiently.\",\n",
    "\"The company's travel policies are restrictive and make it challenging for employees to fulfill their job responsibilities effectively while traveling.\",\n",
    "\"The company's IT support services are inadequate and slow to respond to employees' technical issues and needs.\",\n",
    "\"The company's performance evaluation criteria are unclear and not aligned with employees' roles and responsibilities.\",\n",
    "\"The company's management team lacks diversity and representation, resulting in limited perspectives and ideas in decision-making processes.\",\n",
    "\"The company's decision-making processes are bureaucratic and slow, causing delays in implementing necessary changes and improvements.\",\n",
    "\"The company's internal communication is top-down and lacks opportunities for employees to provide feedback and contribute ideas.\",\n",
    "\"The company's performance-based incentives and rewards are not aligned with employees' individual goals and priorities.\",\n",
    "\"The company's organizational structure is rigid and hierarchical, hindering collaboration and innovation among employees.\",\n",
    "\"The company's employee recognition program is inconsistent and fails to acknowledge and appreciate employees' efforts and contributions.\",\n",
    "\"The company's training and development opportunities are limited, leaving employees without the necessary skills and knowledge to excel in their roles.\",\n",
    "\"The company's performance feedback is infrequent and lacks specificity, making it difficult for employees to understand areas for improvement.\",\n",
    "\"The company's decision-making processes are opaque and lack transparency, leading to a lack of trust and employee dissatisfaction.\",\n",
    "\"The company's work-life balance policies are inadequate, with employees struggling to maintain a healthy equilibrium between work and personal life.\",\n",
    "\"The company's delegation of tasks and responsibilities is ineffective, leading to a lack of clarity and accountability among employees.\",\n",
    "\"The company's communication culture is non-collaborative, with a lack of sharing information and knowledge among employees.\",\n",
    "\"The company's employee recognition programs are limited to monetary rewards, neglecting the importance of non-financial recognition and appreciation.\",\n",
    "\"The company's training programs are generic and fail to address specific skill gaps and developmental needs of employees.\",\n",
    "\"The company's decision-making processes are decentralized and lack clear guidelines, resulting in inconsistency and confusion among employees.\",\n",
    "\"The company's team-building activities are infrequent and fail to foster strong relationships and collaboration among employees.\",\n",
    "\"The company's leadership style is authoritarian, with little input or involvement from employees in decision-making processes.\",\n",
    "\"The company's employee performance evaluation process is subjective and lacks objectivity and fairness.\",\n",
    "\"The company's resources and support for employee well-being are insufficient, leading to increased stress and burnout among employees.\",\n",
    "\"The company's feedback mechanisms are inadequate, with employees lacking opportunities to provide input and suggest improvements.\",\n",
    "\"The company's performance goals are unrealistic and unattainable, leading to a lack of motivation and decreased morale among employees.\",\n",
    "\"The company's recruitment process is slow and inefficient, resulting in difficulties in attracting and hiring qualified candidates.\",\n",
    "\"The company's team communication is ineffective, with a lack of clarity and coordination in work-related discussions and updates.\",\n",
    "\"The company's decision-making processes are risk-averse, inhibiting innovation and creativity among employees.\",\n",
    "\"The company's professional growth opportunities are limited to specific departments or roles, leaving other employees with limited avenues for advancement.\",\n",
    "\"The company's performance evaluations lack constructive feedback and developmental guidance for employees to improve their skills and performance.\",\n",
    "\"The company's work environment lacks inclusivity and diversity, leading to a lack of representation and cultural sensitivity.\",\n",
    "\"The company's project planning and resource allocation are ineffective, resulting in frequent delays and missed deadlines.\",\n",
    "\"The company's communication channels are overwhelmed with irrelevant information, making it challenging for employees to filter and find important messages.\",\n",
    "\"The company's employee recognition program is inconsistent and lacks transparency in the selection and rewards process.\",\n",
    "\"The company's decision-making processes are excessively bureaucratic and slow, hindering timely actions and responsiveness.\",\n",
    "\"The company's performance evaluation system is heavily focused on quantitative metrics, neglecting qualitative aspects of employees' contributions.\",\n",
    "\"The company's workload expectations are unrealistic and lead to employee burnout and decreased productivity.\",\n",
    "\"The company's feedback culture is non-existent, with a lack of open and constructive feedback among employees and managers.\",\n",
    "\"The company's communication channels are outdated and unreliable, leading to difficulties in sharing important information and updates with employees.\",\n",
    "\"The company's promotions and career advancement opportunities are biased and favor certain individuals, leading to a lack of equal opportunities for all employees.\",\n",
    "\"The company's performance goals and targets are unrealistic and unattainable, causing employees to feel demotivated and overwhelmed.\",\n",
    "\"The company's procurement process is slow and inefficient, resulting in delays in obtaining necessary materials and supplies for employees.\",\n",
    "\"The company's decision-making processes are influenced by politics and personal biases, rather than objective criteria and data.\",\n",
    "\"The company's organizational culture is toxic, with a lack of trust, respect, and open communication among employees.\",\n",
    "\"The company's performance metrics and targets are unrealistic and do not take into account external factors or constraints that impact employees' ability to achieve them.\",\n",
    "\"The company's career development opportunities are limited, with few options for employees to grow and advance within the organization.\",\n",
    "\"The company's job roles and responsibilities are poorly defined, leading to confusion and overlap in tasks among employees.\",\n",
    "\"The company's leadership team lacks visibility and accessibility, leading to a lack of guidance and support for employees.\",\n",
    "\"The company's decision-making processes are centralized, with limited input and involvement from employees at lower levels.\",\n",
    "\"The company's training and development programs are outdated and fail to address the evolving needs and skills required in the industry.\",\n",
    "\"The company's employee performance evaluation process lacks transparency and objective criteria, leading to perceived favoritism and bias.\",\n",
    "\"The company's communication channels are fragmented and lack integration, making it difficult for employees to access important information and updates.\",\n",
    "\"The company's disciplinary actions and policies are inconsistent and lack clear guidelines, leading to confusion and uncertainty among employees.\",\n",
    "\"The company's employee engagement initiatives are ineffective and fail to foster a sense of belonging and motivation among employees.\",\n",
    "\"The company's workspaces are overcrowded and lack sufficient space for employees to work comfortably and efficiently.\",\n",
    "\"The company's travel policies are restrictive and make it challenging for employees to fulfill their job responsibilities effectively while traveling.\",\n",
    "\"The company's IT support services are inadequate and slow to respond to employees' technical issues and needs.\",\n",
    "\"The company's performance evaluation criteria are unclear and not aligned with employees' roles and responsibilities.\",\n",
    "\"The company's management team lacks diversity and representation, resulting in limited perspectives and ideas in decision-making processes.\",\n",
    "\"The company's decision-making processes are bureaucratic and slow, causing delays in implementing necessary changes and improvements.\",\n",
    "\"The company's internal communication is top-down and lacks opportunities for employees to provide feedback and contribute ideas.\",\n",
    "\"The company's performance-based incentives and rewards are not aligned with employees' individual goals and priorities.\",\n",
    "\"The company's organizational structure is rigid and hierarchical, hindering collaboration and innovation among employees.\",\n",
    "\"The company's employee recognition program is inconsistent and fails to acknowledge and appreciate employees' efforts and contributions.\",\n",
    "\"The company's training and development opportunities are limited, leaving employees without the necessary skills and knowledge to excel in their roles.\",\n",
    "\"The company's performance feedback is infrequent and lacks specificity, making it difficult for employees to understand areas for improvement.\",\n",
    "\"The company's decision-making processes are opaque and lack transparency, leading to a lack \" \n",
    "               # Workplace Environment\n",
    "    \"The office temperature is consistently too cold, making it extremely uncomfortable to work. Despite multiple requests to adjust the thermostat, the chilly conditions persist, causing employees to shiver throughout the day.\",\n",
    "    \"The lighting in the workspace is inadequate, resulting in dimly lit areas that strain our eyes and make it difficult to read or work on detailed tasks.\",\n",
    "    \"The air quality in the office is poor, with stale air and unpleasant odors lingering. It negatively impacts our productivity and overall well-being.\",\n",
    "    \n",
    "    # Facilities and Amenities\n",
    "    \"The food in the cafeteria lacks variety and quality, leaving us with limited healthy options for meals. It's challenging to find nutritious and appetizing choices during lunchtime.\",\n",
    "    \"The coffee provided in the office is consistently stale and tasteless. It fails to provide the much-needed energy boost and affects our motivation and focus.\",\n",
    "    \"The break room is too small and insufficiently equipped to accommodate all employees during their breaks. It's difficult to find a comfortable space to relax and recharge.\",\n",
    "    \n",
    "    # Parking and Commute\n",
    "    \"The parking lot is poorly maintained, with numerous potholes and inadequate lighting. It poses a risk to vehicles and makes parking a hassle.\",\n",
    "    \"There is a lack of accessible parking spaces for employees with disabilities. It's crucial to provide designated parking spots to ensure inclusivity.\",\n",
    "    \"The company transportation policy is unclear, causing confusion and inconvenience for employees who rely on public transportation or carpooling.\",\n",
    "    \n",
    "    # Workload and Communication\n",
    "    \"The workload distribution is uneven, with some employees consistently overwhelmed while others have lighter workloads. It leads to stress and burnout among the overburdened employees.\",\n",
    "    \"There is a lack of effective communication within teams, resulting in delays, misalignment, and duplicated efforts.\",\n",
    "    \"The performance feedback and evaluation process is infrequent and lacks constructive guidance for professional growth and development.\",\n",
    "    \n",
    "    # Employee Relationships\n",
    "    \"There is a lack of team-building activities or social events to foster stronger relationships and camaraderie among employees.\",\n",
    "    \"The workplace culture is toxic, with instances of favoritism, gossip, and lack of respect among colleagues.\",\n",
    "    \"Bullying or harassment incidents occur without appropriate measures taken to address them, creating a hostile work environment.\",\n",
    "    \n",
    "    # Training and Development\n",
    "    \"The opportunities for professional training and development are limited, hindering career advancement and skill enhancement.\",\n",
    "    \"There is a lack of mentoring or coaching programs to support employees in their professional growth and provide guidance.\",\n",
    "    \"The company does not prioritize cross-functional or cross-departmental training, hindering collaboration and skill diversification.\",\n",
    "    \n",
    "    # Work-Life Balance\n",
    "    \"The company's work-from-home policy is unclear and inconsistently applied, creating uncertainty and confusion among employees.\",\n",
    "    \"Employees are often expected to work long hours and weekends without proper compensation or recognition for their extra efforts.\",\n",
    "    \"There is a lack of flexibility in the work schedule, making it challenging to balance personal commitments and work responsibilities.\",\n",
    "\n",
    "    # Management and Leadership\n",
    "    \"The management team lacks clear direction and frequently changes priorities, causing confusion and inefficiency.\",\n",
    "    \"Managers often micromanage and fail to delegate tasks effectively, stifling employee autonomy and growth.\",\n",
    "    \"There is a lack of recognition and appreciation for employees' hard work and accomplishments, leading to low morale.\",\n",
    "    \n",
    "    # Technology and Equipment\n",
    "    \"The outdated computer systems and software hinder productivity and slow down workflow processes.\",\n",
    "    \"The IT support team is unresponsive and takes a long time to resolve technical issues, causing significant disruptions to our work.\",\n",
    "    \"The conference room equipment, such as projectors and video conferencing tools, frequently malfunctions, affecting meetings and presentations.\",\n",
    "    \n",
    "    # Health and Safety\n",
    "    \"There are no designated quiet spaces or relaxation areas for employees to unwind and destress during the workday.\",\n",
    "    \"The office lacks proper ergonomics, with uncomfortable desks and chairs that contribute to physical discomfort and musculoskeletal issues.\",\n",
    "    \"Emergency preparedness protocols and safety procedures are unclear or insufficiently communicated to employees.\",\n",
    "    \n",
    "    # Career Advancement\n",
    "    \"The promotion process is opaque, leaving employees uncertain about the criteria and requirements for advancement.\",\n",
    "    \"Opportunities for career growth and vertical mobility within the company are limited or not readily available.\",\n",
    "    \"The company does not provide adequate support or funding for employees to attend industry conferences or professional development events.\",\n",
    "    \n",
    "    # Diversity and Inclusion\n",
    "    \"There is a lack of diversity and representation in leadership positions, which sends a discouraging message to underrepresented employees.\",\n",
    "    \"The company culture does not foster inclusivity, with instances of bias, microaggressions, and insensitivity towards diverse backgrounds and identities.\",\n",
    "    \"The employee resource groups or affinity groups are not given adequate support or resources to promote a sense of belonging and representation.\",\n",
    "    \n",
    "    # Benefits and Compensation\n",
    "    \"The employee benefits package, including healthcare and retirement plans, is subpar compared to industry standards.\",\n",
    "    \"Salary adjustments and raises are infrequent and fail to keep pace with the rising cost of living and inflation.\",\n",
    "    \"There is a lack of transparency around the criteria used for performance-based bonuses or incentives.\",\n",
    "    \n",
    "    # Sustainability and Environment\n",
    "    \"The company does not have sustainable practices in place, such as recycling programs or energy-efficient initiatives.\",\n",
    "    \"There is a lack of awareness and education around environmentally friendly practices, such as reducing paper waste or conserving energy.\",\n",
    "    \"The office lacks access to natural light, plants, and green spaces, negatively impacting employee well-being and mood.\"]"
   ]
  },
  {
   "cell_type": "code",
   "execution_count": 285,
   "id": "b073a357",
   "metadata": {},
   "outputs": [],
   "source": [
    "labels=[\"restaurant\",\n",
    "\"restaurant\",\"restaurant\",\"restaurant\",\"restaurant\",\"restaurant\",\"restaurant\",\"restaurant\",\"restaurant\",\"parking\",\"parking\",\"parking\",\"parking\",\n",
    "\"parking\",\"parking\",\"RH\",\"RH\",\"RH\",\"RH\",\"RH\",\"RH\",\"RH\",\"RH\",\"RH\",\"RH\",\"RH\",\"RH\",\"RH\",\"equipement\",\"equipement\",\"equipement\",\"equipement\",\n",
    "\"restaurant\",\"restaurant\",\"parking\",\"parking\",\"parking\",\"parking\",\"parking\",\"RH\",\n",
    "\"RH\",\n",
    "\"RH\",\n",
    "\"RH\",\n",
    "\"RH\",\n",
    "\"RH\",\n",
    "\"RH\",   \n",
    "\"RH\",\n",
    "\"RH\",\n",
    "\"RH\",\n",
    "\"RH\",\n",
    "\"equipement\",   \n",
    "\"equipement\",\n",
    "\"equipement\",\n",
    "\"restaurant\",\n",
    "\"restaurant\",\n",
    "\"parking\",\n",
    "\"parking\",\n",
    "\"parking\",\n",
    "\"equipement\",\n",
    "\"equipement\",\n",
    "\"RH\",\n",
    "\"RH\",\n",
    "\"RH\",\n",
    "\"RH\",\n",
    "\"RH\",\n",
    "\"RH\",\n",
    "\"RH\",\n",
    "\"RH\",\n",
    "\"RH\",\n",
    "\"RH\",\n",
    "\"RH\",\n",
    "\"RH\",\n",
    "\"RH\",\n",
    "\"RH\",\n",
    "\"RH\",\n",
    "\"RH\",\n",
    "\"RH\",\n",
    "\"restaurant\",\n",
    "\"restaurant\",\n",
    "\"parking\",\n",
    "\"parking\",\n",
    "\"equipement\",\n",
    "\"equipement\",\n",
    "\"RH\",\n",
    "\"RH\",\n",
    "\"RH\",\n",
    "\"RH\",\n",
    "\"RH\",\n",
    "\"RH\",\n",
    "\"RH\",\n",
    "\"RH\",\n",
    "\"RH\",\n",
    "\"RH\",\n",
    "\"RH\",\n",
    "\"RH\",\n",
    "\"RH\",\n",
    "\"equipement\",\n",
    "\"equipement\",\n",
    "\"equipement\",\n",
    "\"equipement\",\n",
    "\"RH\",\n",
    "\"RH\",\n",
    "\"RH\",\n",
    "\"RH\",\n",
    "\"RH\",\n",
    "\"RH\",\n",
    "\"RH\",\n",
    "\"RH\",\n",
    "\"RH\",\n",
    "\"RH\",\n",
    "\"RH\",\n",
    "\"restaurant\",\n",
    "\"restaurant\",\n",
    "\"parking\",\n",
    "\"parking\",\n",
    "\"equipement\",\n",
    "\"equipement\",\n",
    "\"RH\",\n",
    "\"RH\",\n",
    "\"RH\",\n",
    "\"RH\",\n",
    "\"RH\",\n",
    "\"RH\",\n",
    "\"RH\",\n",
    "\"RH\",\n",
    "\"RH\",\n",
    "\"RH\",\n",
    "\"RH\",\n",
    "\"RH\",\n",
    "\"RH\",\n",
    "\"equipement\",\n",
    "\"equipement\",\n",
    "\"equipement\",\n",
    "\"equipement\",\n",
    "\"RH\",\n",
    "\"RH\",\n",
    "\"RH\",\n",
    "\"RH\",\n",
    "\"RH\"]"
   ]
  },
  {
   "cell_type": "code",
   "execution_count": 286,
   "id": "d440dfd6",
   "metadata": {},
   "outputs": [
    {
     "data": {
      "text/plain": [
       "139"
      ]
     },
     "execution_count": 286,
     "metadata": {},
     "output_type": "execute_result"
    }
   ],
   "source": [
    "len(labels)"
   ]
  },
  {
   "cell_type": "code",
   "execution_count": 287,
   "id": "6cfd0ff7",
   "metadata": {},
   "outputs": [],
   "source": [
    "complaints2=complaints[0:139]"
   ]
  },
  {
   "cell_type": "code",
   "execution_count": 288,
   "id": "e61aef99",
   "metadata": {},
   "outputs": [
    {
     "data": {
      "text/plain": [
       "139"
      ]
     },
     "execution_count": 288,
     "metadata": {},
     "output_type": "execute_result"
    }
   ],
   "source": [
    "len(complaints2)"
   ]
  },
  {
   "cell_type": "code",
   "execution_count": 289,
   "id": "aabae81c",
   "metadata": {},
   "outputs": [],
   "source": [
    "df = pd.DataFrame()\n",
    "df[\"complaint\"]= complaints2\n",
    "df [\"label\"]= labels"
   ]
  },
  {
   "cell_type": "code",
   "execution_count": 290,
   "id": "e1b5311f",
   "metadata": {},
   "outputs": [
    {
     "data": {
      "text/plain": [
       "array(['restaurant', 'parking', 'RH', 'equipement'], dtype=object)"
      ]
     },
     "execution_count": 290,
     "metadata": {},
     "output_type": "execute_result"
    }
   ],
   "source": [
    "df[\"label\"].unique()"
   ]
  },
  {
   "cell_type": "code",
   "execution_count": 291,
   "id": "dcace554",
   "metadata": {
    "scrolled": false
   },
   "outputs": [
    {
     "data": {
      "text/plain": [
       "<Axes: >"
      ]
     },
     "execution_count": 291,
     "metadata": {},
     "output_type": "execute_result"
    },
    {
     "data": {
      "image/png": "[encoded data removed]",
      "text/plain": [
       "<Figure size 640x480 with 1 Axes>"
      ]
     },
     "metadata": {},
     "output_type": "display_data"
    }
   ],
   "source": [
    "df['label'].value_counts().sort_values(ascending=False).plot(kind='bar')"
   ]
  },
  {
   "cell_type": "code",
   "execution_count": 292,
   "id": "42eaafff",
   "metadata": {},
   "outputs": [
    {
     "name": "stdout",
     "output_type": "stream",
     "text": [
      "Requirement already satisfied: bert in c:\\users\\dhibi\\anaconda3\\lib\\site-packages (2.2.0)\n",
      "Requirement already satisfied: erlastic in c:\\users\\dhibi\\anaconda3\\lib\\site-packages (from bert) (2.0.0)\n",
      "Note: you may need to restart the kernel to use updated packages.\n"
     ]
    }
   ],
   "source": [
    "pip install bert"
   ]
  },
  {
   "cell_type": "code",
   "execution_count": 293,
   "id": "5e221c2e",
   "metadata": {},
   "outputs": [],
   "source": [
    "import pandas as pd\n",
    "import numpy as np\n",
    "import matplotlib.pyplot as plt\n",
    "import seaborn as sns\n",
    "from sklearn.model_selection import train_test_split\n",
    "from sklearn.preprocessing import LabelEncoder\n",
    "from keras.models import Model\n",
    "from keras.layers import LSTM, Activation, Dense, Dropout, Input, Embedding\n",
    "from keras.optimizers import RMSprop\n",
    "from keras.preprocessing.text import Tokenizer\n",
    "from keras.preprocessing import sequence\n",
    "from keras.utils import to_categorical\n",
    "from keras.callbacks import EarlyStopping\n",
    "%matplotlib inline"
   ]
  },
  {
   "cell_type": "code",
   "execution_count": 294,
   "id": "72571819",
   "metadata": {},
   "outputs": [],
   "source": [
    "one_hot = pd.get_dummies(df[\"label\"])\n",
    "df.drop(['label'],axis=1,inplace=True)\n",
    "df = pd.concat([df,one_hot],axis=1)\n"
   ]
  },
  {
   "cell_type": "code",
   "execution_count": 304,
   "id": "3cb6facb",
   "metadata": {},
   "outputs": [
    {
     "name": "stderr",
     "output_type": "stream",
     "text": [
      "[nltk_data] Downloading package stopwords to\n",
      "[nltk_data]     C:\\Users\\DHIBI\\AppData\\Roaming\\nltk_data...\n",
      "[nltk_data]   Package stopwords is already up-to-date!\n"
     ]
    }
   ],
   "source": [
    "import nltk\n",
    "from nltk.corpus import stopwords\n",
    "\n",
    "nltk.download('stopwords')\n",
    "\n",
    "# Get the list of stop words\n",
    "stop_words = set(stopwords.words('english'))\n",
    "\n",
    "# Function to remove stop words from a text\n",
    "def remove_stopwords(text):\n",
    "    tokens = nltk.word_tokenize(text)\n",
    "    filtered_tokens = [word for word in tokens if word.lower() not in stop_words]\n",
    "    return ' '.join(filtered_tokens)\n",
    "\n",
    "# Apply the remove_stopwords function to the 'complaint' column\n",
    "df['complaint'] = df['complaint'].apply(remove_stopwords)\n"
   ]
  },
  {
   "cell_type": "code",
   "execution_count": 305,
   "id": "66b0b334",
   "metadata": {},
   "outputs": [],
   "source": [
    "from sklearn.model_selection import train_test_split\n",
    "X_train, X_test, y_train, y_test = train_test_split(df[\"complaint\"].values, df.drop(['complaint'],axis=1).values, test_size=0.02, random_state=42)"
   ]
  },
  {
   "cell_type": "code",
   "execution_count": 306,
   "id": "354efc59",
   "metadata": {},
   "outputs": [
    {
     "data": {
      "text/plain": [
       "array([[1, 0, 0, 0],\n",
       "       [1, 0, 0, 0],\n",
       "       [0, 1, 0, 0]], dtype=uint8)"
      ]
     },
     "execution_count": 306,
     "metadata": {},
     "output_type": "execute_result"
    }
   ],
   "source": [
    "y_test"
   ]
  },
  {
   "cell_type": "code",
   "execution_count": 307,
   "id": "bf462312",
   "metadata": {},
   "outputs": [],
   "source": [
    "vocabulary_size = 20000\n",
    "tokenizer = Tokenizer(num_words= vocabulary_size)\n",
    "tokenizer.fit_on_texts(X_train)\n",
    "sequences = tokenizer.texts_to_sequences(X_train)\n",
    "X_train = pad_sequences(sequences, maxlen=50)"
   ]
  },
  {
   "cell_type": "code",
   "execution_count": 308,
   "id": "3a456881",
   "metadata": {},
   "outputs": [],
   "source": [
    "sequences = tokenizer.texts_to_sequences(X_test)\n",
    "X_test = pad_sequences(sequences, maxlen=50)"
   ]
  },
  {
   "cell_type": "code",
   "execution_count": 309,
   "id": "835937b2",
   "metadata": {},
   "outputs": [
    {
     "data": {
      "text/plain": [
       "array([[  0,   0,   0, ...,  68,  23,  31],\n",
       "       [  0,   0,   0, ...,  14, 311,   1],\n",
       "       [  0,   0,   0, ..., 314, 480, 131],\n",
       "       ...,\n",
       "       [  0,   0,   0, ...,  81,   7,  52],\n",
       "       [  0,   0,   0, ...,   1,   8,  24],\n",
       "       [  0,   0,   0, ..., 251,   5, 167]])"
      ]
     },
     "execution_count": 309,
     "metadata": {},
     "output_type": "execute_result"
    }
   ],
   "source": [
    "X_train"
   ]
  },
  {
   "cell_type": "code",
   "execution_count": 310,
   "id": "4a60bca6",
   "metadata": {},
   "outputs": [],
   "source": [
    "model = Sequential()\n",
    "model.add(Embedding(20000, 1000, input_length=50))\n",
    "model.add(Dropout(0.5))  # Increased dropout rate for regularization\n",
    "model.add(Conv1D(128, 5, activation='relu'))  # Increased number of filters\n",
    "model.add(MaxPooling1D(pool_size=2))\n",
    "model.add(LSTM(128))  # Increased LSTM units\n",
    "model.add(Dense(4, activation='softmax'))"
   ]
  },
  {
   "cell_type": "code",
   "execution_count": 311,
   "id": "f52c1148",
   "metadata": {},
   "outputs": [],
   "source": [
    "model.compile(loss='categorical_crossentropy', optimizer='adam', metrics=['accuracy'])"
   ]
  },
  {
   "cell_type": "code",
   "execution_count": 312,
   "id": "dbd84a3c",
   "metadata": {},
   "outputs": [
    {
     "name": "stdout",
     "output_type": "stream",
     "text": [
      "Epoch 1/10\n",
      "1/1 [==============================] - 3s 3s/step - loss: 1.3882 - accuracy: 0.1885 - val_loss: 1.2405 - val_accuracy: 0.7857\n",
      "Epoch 2/10\n",
      "1/1 [==============================] - 1s 784ms/step - loss: 1.2767 - accuracy: 0.5738 - val_loss: 1.0445 - val_accuracy: 0.7857\n",
      "Epoch 3/10\n",
      "1/1 [==============================] - 1s 761ms/step - loss: 1.1570 - accuracy: 0.5738 - val_loss: 0.8272 - val_accuracy: 0.7857\n",
      "Epoch 4/10\n",
      "1/1 [==============================] - 1s 778ms/step - loss: 1.0722 - accuracy: 0.5738 - val_loss: 0.7024 - val_accuracy: 0.7857\n",
      "Epoch 5/10\n",
      "1/1 [==============================] - 1s 763ms/step - loss: 1.0946 - accuracy: 0.5738 - val_loss: 0.6859 - val_accuracy: 0.7857\n",
      "Epoch 6/10\n",
      "1/1 [==============================] - 1s 783ms/step - loss: 1.0459 - accuracy: 0.5738 - val_loss: 0.6923 - val_accuracy: 0.7857\n",
      "Epoch 7/10\n",
      "1/1 [==============================] - 1s 772ms/step - loss: 0.9720 - accuracy: 0.5738 - val_loss: 0.7128 - val_accuracy: 0.7857\n",
      "Epoch 8/10\n",
      "1/1 [==============================] - 1s 894ms/step - loss: 0.9144 - accuracy: 0.5738 - val_loss: 0.7256 - val_accuracy: 0.7857\n",
      "Epoch 9/10\n",
      "1/1 [==============================] - 1s 787ms/step - loss: 0.8645 - accuracy: 0.5738 - val_loss: 0.7148 - val_accuracy: 0.7857\n",
      "Epoch 10/10\n",
      "1/1 [==============================] - 1s 821ms/step - loss: 0.8113 - accuracy: 0.5738 - val_loss: 0.6784 - val_accuracy: 0.7857\n"
     ]
    },
    {
     "data": {
      "text/plain": [
       "<keras.callbacks.History at 0x21abf102f40>"
      ]
     },
     "execution_count": 312,
     "metadata": {},
     "output_type": "execute_result"
    }
   ],
   "source": [
    "model.fit(X_train, y_train,\n",
    "                    batch_size=1024,\n",
    "                    epochs=10,\n",
    "                    verbose=1,\n",
    "                    validation_split=0.1)"
   ]
  },
  {
   "cell_type": "code",
   "execution_count": 313,
   "id": "063b4913",
   "metadata": {},
   "outputs": [
    {
     "name": "stdout",
     "output_type": "stream",
     "text": [
      "1/1 [==============================] - 0s 31ms/step - loss: 0.8755 - accuracy: 0.6667\n",
      "Test accuracy: 0.6666666865348816\n"
     ]
    }
   ],
   "source": [
    "score = model.evaluate(X_test, y_test,\n",
    "                       batch_size=256, verbose=1)\n",
    "print('Test accuracy:', score[1])"
   ]
  },
  {
   "cell_type": "code",
   "execution_count": 314,
   "id": "4ce9016a",
   "metadata": {},
   "outputs": [
    {
     "name": "stdout",
     "output_type": "stream",
     "text": [
      "1/1 [==============================] - 1s 1s/step\n"
     ]
    }
   ],
   "source": [
    "preds = model.predict(X_test)"
   ]
  },
  {
   "cell_type": "code",
   "execution_count": 315,
   "id": "217b0d15",
   "metadata": {},
   "outputs": [],
   "source": [
    "model.compile(loss='categorical_crossentropy', optimizer='adam', metrics=['accuracy'])"
   ]
  },
  {
   "cell_type": "code",
   "execution_count": 316,
   "id": "7505b990",
   "metadata": {},
   "outputs": [
    {
     "name": "stdout",
     "output_type": "stream",
     "text": [
      "              precision    recall  f1-score   support\n",
      "\n",
      "           0       0.67      1.00      0.80         2\n",
      "           1       0.00      0.00      0.00         1\n",
      "\n",
      "    accuracy                           0.67         3\n",
      "   macro avg       0.33      0.50      0.40         3\n",
      "weighted avg       0.44      0.67      0.53         3\n",
      "\n"
     ]
    }
   ],
   "source": [
    "print(classification_report(np.argmax(y_test,axis=1),np.argmax(preds,axis=1)))"
   ]
  },
  {
   "cell_type": "code",
   "execution_count": 317,
   "id": "0141c94c",
   "metadata": {},
   "outputs": [
    {
     "data": {
      "text/plain": [
       "array([[0.7195046 , 0.12360743, 0.07434405, 0.08254396],\n",
       "       [0.67747736, 0.11926875, 0.09771691, 0.10553695],\n",
       "       [0.6082631 , 0.14838047, 0.12165715, 0.12169935]], dtype=float32)"
      ]
     },
     "execution_count": 317,
     "metadata": {},
     "output_type": "execute_result"
    }
   ],
   "source": [
    "preds"
   ]
  },
  {
   "cell_type": "code",
   "execution_count": 318,
   "id": "63472ab9",
   "metadata": {},
   "outputs": [
    {
     "data": {
      "text/html": [
       "<div>\n",
       "<style scoped>\n",
       "    .dataframe tbody tr th:only-of-type {\n",
       "        vertical-align: middle;\n",
       "    }\n",
       "\n",
       "    .dataframe tbody tr th {\n",
       "        vertical-align: top;\n",
       "    }\n",
       "\n",
       "    .dataframe thead th {\n",
       "        text-align: right;\n",
       "    }\n",
       "</style>\n",
       "<table border=\"1\" class=\"dataframe\">\n",
       "  <thead>\n",
       "    <tr style=\"text-align: right;\">\n",
       "      <th></th>\n",
       "      <th>complaint</th>\n",
       "      <th>RH</th>\n",
       "      <th>equipement</th>\n",
       "      <th>parking</th>\n",
       "      <th>restaurant</th>\n",
       "    </tr>\n",
       "  </thead>\n",
       "  <tbody>\n",
       "    <tr>\n",
       "      <th>134</th>\n",
       "      <td>company 's performance appraisal system subjec...</td>\n",
       "      <td>1</td>\n",
       "      <td>0</td>\n",
       "      <td>0</td>\n",
       "      <td>0</td>\n",
       "    </tr>\n",
       "    <tr>\n",
       "      <th>135</th>\n",
       "      <td>company 's workplace environment noisy distrac...</td>\n",
       "      <td>1</td>\n",
       "      <td>0</td>\n",
       "      <td>0</td>\n",
       "      <td>0</td>\n",
       "    </tr>\n",
       "    <tr>\n",
       "      <th>136</th>\n",
       "      <td>Employees experience frequent power outages di...</td>\n",
       "      <td>1</td>\n",
       "      <td>0</td>\n",
       "      <td>0</td>\n",
       "      <td>0</td>\n",
       "    </tr>\n",
       "    <tr>\n",
       "      <th>137</th>\n",
       "      <td>company 's furniture seating arrangements unco...</td>\n",
       "      <td>1</td>\n",
       "      <td>0</td>\n",
       "      <td>0</td>\n",
       "      <td>0</td>\n",
       "    </tr>\n",
       "    <tr>\n",
       "      <th>138</th>\n",
       "      <td>company 's network security measures insuffici...</td>\n",
       "      <td>1</td>\n",
       "      <td>0</td>\n",
       "      <td>0</td>\n",
       "      <td>0</td>\n",
       "    </tr>\n",
       "  </tbody>\n",
       "</table>\n",
       "</div>"
      ],
      "text/plain": [
       "                                             complaint  RH  equipement  \\\n",
       "134  company 's performance appraisal system subjec...   1           0   \n",
       "135  company 's workplace environment noisy distrac...   1           0   \n",
       "136  Employees experience frequent power outages di...   1           0   \n",
       "137  company 's furniture seating arrangements unco...   1           0   \n",
       "138  company 's network security measures insuffici...   1           0   \n",
       "\n",
       "     parking  restaurant  \n",
       "134        0           0  \n",
       "135        0           0  \n",
       "136        0           0  \n",
       "137        0           0  \n",
       "138        0           0  "
      ]
     },
     "execution_count": 318,
     "metadata": {},
     "output_type": "execute_result"
    }
   ],
   "source": [
    "df.tail()"
   ]
  },
  {
   "cell_type": "code",
   "execution_count": 319,
   "id": "e3cebe09",
   "metadata": {},
   "outputs": [
    {
     "data": {
      "text/plain": [
       "array([[  0,   0,   0,   0,   0,   0,   0,   0,   0,   0,   0,   0,   0,\n",
       "          0,   0,   0,   0,   0,   0,   0,   0,   0,   0,   0,   0,   0,\n",
       "          0,   0,   0,   0,   0,   0,   0,   0,   0,   0,   2,   4, 107,\n",
       "         33,  57, 692,   1, 439,   5,   3,   5, 188, 150,  26],\n",
       "       [  0,   0,   0,   0,   0,   0,   0,   0,   0,   0,   0,   0,   0,\n",
       "          0,   0,   0,   0,   0,   0,   0,   0,   0,   0,   0,   0,   0,\n",
       "          0,   0,   2,   7,  65,  66,  20,  71, 293,  61,   5,  46,  53,\n",
       "          1,  15, 446,  60, 469,   5, 102,  12,  96,  37, 221],\n",
       "       [  0,   0,   0,   0,   0,   0,   0,   0,   0,   0,   0,   0,   0,\n",
       "          0,   0,   0,   0,   0,   0,   0,   0,   0,   0,   0,   0,   1,\n",
       "        184, 185, 133,  62,   2,   4, 672,  71,  51,  86, 155, 103,  80,\n",
       "        338,  29,   3, 199,  58,  99, 164,   7, 140,  80,  52]])"
      ]
     },
     "execution_count": 319,
     "metadata": {},
     "output_type": "execute_result"
    }
   ],
   "source": [
    "X_test"
   ]
  },
  {
   "cell_type": "code",
   "execution_count": 266,
   "id": "4b119c48",
   "metadata": {},
   "outputs": [
    {
     "ename": "ValueError",
     "evalue": "y should be a 1d array, got an array of shape (3, 4) instead.",
     "output_type": "error",
     "traceback": [
      "\u001b[1;31m---------------------------------------------------------------------------\u001b[0m",
      "\u001b[1;31mValueError\u001b[0m                                Traceback (most recent call last)",
      "Cell \u001b[1;32mIn[266], line 1\u001b[0m\n\u001b[1;32m----> 1\u001b[0m score \u001b[38;5;241m=\u001b[39m model\u001b[38;5;241m.\u001b[39mevaluate(X_test, \u001b[43mlabel_encoder\u001b[49m\u001b[38;5;241;43m.\u001b[39;49m\u001b[43mfit_transform\u001b[49m\u001b[43m(\u001b[49m\u001b[43my_test\u001b[49m\u001b[43m)\u001b[49m,\n\u001b[0;32m      2\u001b[0m                        batch_size\u001b[38;5;241m=\u001b[39m\u001b[38;5;241m256\u001b[39m, verbose\u001b[38;5;241m=\u001b[39m\u001b[38;5;241m1\u001b[39m)\n\u001b[0;32m      3\u001b[0m \u001b[38;5;28mprint\u001b[39m(\u001b[38;5;124m'\u001b[39m\u001b[38;5;124mTest accuracy:\u001b[39m\u001b[38;5;124m'\u001b[39m, score[\u001b[38;5;241m1\u001b[39m])\n",
      "File \u001b[1;32m~\\anaconda3\\lib\\site-packages\\sklearn\\utils\\_set_output.py:140\u001b[0m, in \u001b[0;36m_wrap_method_output.<locals>.wrapped\u001b[1;34m(self, X, *args, **kwargs)\u001b[0m\n\u001b[0;32m    138\u001b[0m \u001b[38;5;129m@wraps\u001b[39m(f)\n\u001b[0;32m    139\u001b[0m \u001b[38;5;28;01mdef\u001b[39;00m \u001b[38;5;21mwrapped\u001b[39m(\u001b[38;5;28mself\u001b[39m, X, \u001b[38;5;241m*\u001b[39margs, \u001b[38;5;241m*\u001b[39m\u001b[38;5;241m*\u001b[39mkwargs):\n\u001b[1;32m--> 140\u001b[0m     data_to_wrap \u001b[38;5;241m=\u001b[39m f(\u001b[38;5;28mself\u001b[39m, X, \u001b[38;5;241m*\u001b[39margs, \u001b[38;5;241m*\u001b[39m\u001b[38;5;241m*\u001b[39mkwargs)\n\u001b[0;32m    141\u001b[0m     \u001b[38;5;28;01mif\u001b[39;00m \u001b[38;5;28misinstance\u001b[39m(data_to_wrap, \u001b[38;5;28mtuple\u001b[39m):\n\u001b[0;32m    142\u001b[0m         \u001b[38;5;66;03m# only wrap the first output for cross decomposition\u001b[39;00m\n\u001b[0;32m    143\u001b[0m         \u001b[38;5;28;01mreturn\u001b[39;00m (\n\u001b[0;32m    144\u001b[0m             _wrap_data_with_container(method, data_to_wrap[\u001b[38;5;241m0\u001b[39m], X, \u001b[38;5;28mself\u001b[39m),\n\u001b[0;32m    145\u001b[0m             \u001b[38;5;241m*\u001b[39mdata_to_wrap[\u001b[38;5;241m1\u001b[39m:],\n\u001b[0;32m    146\u001b[0m         )\n",
      "File \u001b[1;32m~\\anaconda3\\lib\\site-packages\\sklearn\\preprocessing\\_label.py:116\u001b[0m, in \u001b[0;36mLabelEncoder.fit_transform\u001b[1;34m(self, y)\u001b[0m\n\u001b[0;32m    103\u001b[0m \u001b[38;5;28;01mdef\u001b[39;00m \u001b[38;5;21mfit_transform\u001b[39m(\u001b[38;5;28mself\u001b[39m, y):\n\u001b[0;32m    104\u001b[0m     \u001b[38;5;124;03m\"\"\"Fit label encoder and return encoded labels.\u001b[39;00m\n\u001b[0;32m    105\u001b[0m \n\u001b[0;32m    106\u001b[0m \u001b[38;5;124;03m    Parameters\u001b[39;00m\n\u001b[1;32m   (...)\u001b[0m\n\u001b[0;32m    114\u001b[0m \u001b[38;5;124;03m        Encoded labels.\u001b[39;00m\n\u001b[0;32m    115\u001b[0m \u001b[38;5;124;03m    \"\"\"\u001b[39;00m\n\u001b[1;32m--> 116\u001b[0m     y \u001b[38;5;241m=\u001b[39m \u001b[43mcolumn_or_1d\u001b[49m\u001b[43m(\u001b[49m\u001b[43my\u001b[49m\u001b[43m,\u001b[49m\u001b[43m \u001b[49m\u001b[43mwarn\u001b[49m\u001b[38;5;241;43m=\u001b[39;49m\u001b[38;5;28;43;01mTrue\u001b[39;49;00m\u001b[43m)\u001b[49m\n\u001b[0;32m    117\u001b[0m     \u001b[38;5;28mself\u001b[39m\u001b[38;5;241m.\u001b[39mclasses_, y \u001b[38;5;241m=\u001b[39m _unique(y, return_inverse\u001b[38;5;241m=\u001b[39m\u001b[38;5;28;01mTrue\u001b[39;00m)\n\u001b[0;32m    118\u001b[0m     \u001b[38;5;28;01mreturn\u001b[39;00m y\n",
      "File \u001b[1;32m~\\anaconda3\\lib\\site-packages\\sklearn\\utils\\validation.py:1202\u001b[0m, in \u001b[0;36mcolumn_or_1d\u001b[1;34m(y, dtype, warn)\u001b[0m\n\u001b[0;32m   1193\u001b[0m         warnings\u001b[38;5;241m.\u001b[39mwarn(\n\u001b[0;32m   1194\u001b[0m             \u001b[38;5;124m\"\u001b[39m\u001b[38;5;124mA column-vector y was passed when a 1d array was\u001b[39m\u001b[38;5;124m\"\u001b[39m\n\u001b[0;32m   1195\u001b[0m             \u001b[38;5;124m\"\u001b[39m\u001b[38;5;124m expected. Please change the shape of y to \u001b[39m\u001b[38;5;124m\"\u001b[39m\n\u001b[1;32m   (...)\u001b[0m\n\u001b[0;32m   1198\u001b[0m             stacklevel\u001b[38;5;241m=\u001b[39m\u001b[38;5;241m2\u001b[39m,\n\u001b[0;32m   1199\u001b[0m         )\n\u001b[0;32m   1200\u001b[0m     \u001b[38;5;28;01mreturn\u001b[39;00m _asarray_with_order(xp\u001b[38;5;241m.\u001b[39mreshape(y, \u001b[38;5;241m-\u001b[39m\u001b[38;5;241m1\u001b[39m), order\u001b[38;5;241m=\u001b[39m\u001b[38;5;124m\"\u001b[39m\u001b[38;5;124mC\u001b[39m\u001b[38;5;124m\"\u001b[39m, xp\u001b[38;5;241m=\u001b[39mxp)\n\u001b[1;32m-> 1202\u001b[0m \u001b[38;5;28;01mraise\u001b[39;00m \u001b[38;5;167;01mValueError\u001b[39;00m(\n\u001b[0;32m   1203\u001b[0m     \u001b[38;5;124m\"\u001b[39m\u001b[38;5;124my should be a 1d array, got an array of shape \u001b[39m\u001b[38;5;132;01m{}\u001b[39;00m\u001b[38;5;124m instead.\u001b[39m\u001b[38;5;124m\"\u001b[39m\u001b[38;5;241m.\u001b[39mformat(shape)\n\u001b[0;32m   1204\u001b[0m )\n",
      "\u001b[1;31mValueError\u001b[0m: y should be a 1d array, got an array of shape (3, 4) instead."
     ]
    }
   ],
   "source": [
    "score = model.evaluate(X_test, label_encoder.fit_transform(y_test),\n",
    "                       batch_size=256, verbose=1)\n",
    "print('Test accuracy:', score[1])"
   ]
  },
  {
   "cell_type": "code",
   "execution_count": 267,
   "id": "4dab5896",
   "metadata": {},
   "outputs": [
    {
     "name": "stdout",
     "output_type": "stream",
     "text": [
      "1/1 [==============================] - 0s 361ms/step\n"
     ]
    }
   ],
   "source": [
    "preds = model.predict(X_test)"
   ]
  },
  {
   "cell_type": "code",
   "execution_count": 268,
   "id": "56d8bcb0",
   "metadata": {},
   "outputs": [
    {
     "data": {
      "text/plain": [
       "array([[0.7201928 , 0.11953046, 0.08891777, 0.07135895],\n",
       "       [0.69797057, 0.12285774, 0.10368585, 0.07548583],\n",
       "       [0.697402  , 0.12582207, 0.09868539, 0.0780905 ]], dtype=float32)"
      ]
     },
     "execution_count": 268,
     "metadata": {},
     "output_type": "execute_result"
    }
   ],
   "source": [
    "preds"
   ]
  },
  {
   "cell_type": "code",
   "execution_count": 269,
   "id": "fcc2b288",
   "metadata": {},
   "outputs": [
    {
     "data": {
      "text/plain": [
       "array([[1, 0, 0, 0],\n",
       "       [1, 0, 0, 0],\n",
       "       [0, 1, 0, 0]], dtype=uint8)"
      ]
     },
     "execution_count": 269,
     "metadata": {},
     "output_type": "execute_result"
    }
   ],
   "source": [
    "y_test"
   ]
  },
  {
   "cell_type": "code",
   "execution_count": 270,
   "id": "d70a6b2d",
   "metadata": {},
   "outputs": [
    {
     "name": "stdout",
     "output_type": "stream",
     "text": [
      "              precision    recall  f1-score   support\n",
      "\n",
      "           0       0.67      1.00      0.80         2\n",
      "           1       0.00      0.00      0.00         1\n",
      "\n",
      "    accuracy                           0.67         3\n",
      "   macro avg       0.33      0.50      0.40         3\n",
      "weighted avg       0.44      0.67      0.53         3\n",
      "\n"
     ]
    }
   ],
   "source": [
    "print(classification_report(np.argmax(y_test,axis=1),np.argmax(preds,axis=1)))"
   ]
  },
  {
   "cell_type": "code",
   "execution_count": 272,
   "id": "159292cf",
   "metadata": {},
   "outputs": [
    {
     "data": {
      "text/plain": [
       "array([[  0,   0,   0, ...,  38,  13,  46],\n",
       "       [  0,   0,   0, ...,  26, 349,   4],\n",
       "       [  0,   0,   0, ...,  34,   7, 157],\n",
       "       ...,\n",
       "       [  0,   0,   0, ..., 103,  18,  69],\n",
       "       [  0,   0,   0, ..., 358,  19,  39],\n",
       "       [  0,   0,   0, ...,   9,   1, 194]])"
      ]
     },
     "execution_count": 272,
     "metadata": {},
     "output_type": "execute_result"
    }
   ],
   "source": [
    "X_train"
   ]
  },
  {
   "cell_type": "code",
   "execution_count": 273,
   "id": "b9633603",
   "metadata": {},
   "outputs": [
    {
     "name": "stdout",
     "output_type": "stream",
     "text": [
      "4/4 [==============================] - 1s 66ms/step\n"
     ]
    }
   ],
   "source": [
    "# Preprocess the input data (sequences_matrix) as needed\n",
    "preprocessed_data = tf.keras.preprocessing.sequence.pad_sequences(sequences_matrix)\n",
    "\n",
    "# Make predictions\n",
    "predictions = model.predict(preprocessed_data)\n"
   ]
  },
  {
   "cell_type": "code",
   "execution_count": 274,
   "id": "b45d7db2",
   "metadata": {},
   "outputs": [
    {
     "data": {
      "text/plain": [
       "array([[0.60049677, 0.16859823, 0.14633054, 0.08457451],\n",
       "       [0.5340653 , 0.20768225, 0.1533403 , 0.10491209],\n",
       "       [0.5297221 , 0.18892412, 0.16351388, 0.1178399 ],\n",
       "       [0.6545405 , 0.15097223, 0.11928799, 0.07519932],\n",
       "       [0.5763709 , 0.17383112, 0.15088591, 0.0989121 ],\n",
       "       [0.50280684, 0.20248258, 0.18057242, 0.11413819],\n",
       "       [0.55922174, 0.15554978, 0.14754096, 0.13768752],\n",
       "       [0.49230886, 0.16409348, 0.18000819, 0.16358946],\n",
       "       [0.4787191 , 0.21109612, 0.18559673, 0.12458798],\n",
       "       [0.699589  , 0.11941216, 0.10061739, 0.08038139],\n",
       "       [0.4597186 , 0.19594266, 0.19259508, 0.1517436 ],\n",
       "       [0.47644392, 0.17886399, 0.19000442, 0.15468767],\n",
       "       [0.5372901 , 0.1931959 , 0.16454911, 0.10496485],\n",
       "       [0.60579497, 0.16988212, 0.14341956, 0.0809033 ],\n",
       "       [0.56164724, 0.166526  , 0.14985351, 0.12197322],\n",
       "       [0.62988067, 0.15686153, 0.12742087, 0.08583705],\n",
       "       [0.5678509 , 0.16538732, 0.15062577, 0.11613603],\n",
       "       [0.516413  , 0.19102457, 0.17302056, 0.11954194],\n",
       "       [0.5755387 , 0.17090435, 0.14267926, 0.11087767],\n",
       "       [0.54822093, 0.1728303 , 0.15157248, 0.12737632],\n",
       "       [0.54096836, 0.17162934, 0.15968594, 0.12771639],\n",
       "       [0.5150648 , 0.18951191, 0.16886538, 0.12655796],\n",
       "       [0.5392739 , 0.19361009, 0.16670321, 0.10041278],\n",
       "       [0.5407872 , 0.1552389 , 0.16108659, 0.14288735],\n",
       "       [0.44122395, 0.19755149, 0.20288193, 0.15834258],\n",
       "       [0.5163459 , 0.203387  , 0.17001651, 0.11025053],\n",
       "       [0.44821218, 0.18095131, 0.20176128, 0.16907527],\n",
       "       [0.6521924 , 0.1362317 , 0.11783769, 0.09373815],\n",
       "       [0.6774006 , 0.13065913, 0.11124673, 0.08069348],\n",
       "       [0.6778554 , 0.13463996, 0.10809753, 0.07940713],\n",
       "       [0.5919155 , 0.18108204, 0.13579033, 0.09121216],\n",
       "       [0.57319236, 0.17325716, 0.15049924, 0.10305128],\n",
       "       [0.5606242 , 0.17203397, 0.15723793, 0.11010399],\n",
       "       [0.5842273 , 0.14180261, 0.13940926, 0.13456085],\n",
       "       [0.5541259 , 0.17643367, 0.15727907, 0.11216137],\n",
       "       [0.6215975 , 0.15770636, 0.12854432, 0.09215181],\n",
       "       [0.5820599 , 0.18994251, 0.14093089, 0.08706672],\n",
       "       [0.5154989 , 0.19956368, 0.16811915, 0.11681827],\n",
       "       [0.5264232 , 0.17570853, 0.16031212, 0.13755609],\n",
       "       [0.6666904 , 0.12540081, 0.11479592, 0.09311281],\n",
       "       [0.51032645, 0.17119297, 0.17048045, 0.14800009],\n",
       "       [0.55922174, 0.15554978, 0.14754096, 0.13768752],\n",
       "       [0.52387947, 0.17921014, 0.17205939, 0.12485106],\n",
       "       [0.59895647, 0.17756473, 0.14310227, 0.08037653],\n",
       "       [0.6632138 , 0.14928402, 0.11743796, 0.0700642 ],\n",
       "       [0.57777053, 0.16639964, 0.14964126, 0.10618858],\n",
       "       [0.4627837 , 0.21758637, 0.19861476, 0.12101516],\n",
       "       [0.38125157, 0.18960403, 0.21845002, 0.2106944 ],\n",
       "       [0.6533452 , 0.13343258, 0.1242365 , 0.08898563],\n",
       "       [0.6545405 , 0.15097223, 0.11928799, 0.07519932],\n",
       "       [0.4277218 , 0.18943076, 0.20807461, 0.17477281],\n",
       "       [0.5119766 , 0.19173414, 0.17077295, 0.1255163 ],\n",
       "       [0.6533452 , 0.13343258, 0.1242365 , 0.08898563],\n",
       "       [0.5343527 , 0.1774497 , 0.16661252, 0.12158502],\n",
       "       [0.6330343 , 0.1561229 , 0.12847273, 0.08237008],\n",
       "       [0.61869526, 0.15403128, 0.13557401, 0.09169955],\n",
       "       [0.59093094, 0.16618986, 0.14234754, 0.10053167],\n",
       "       [0.5670161 , 0.18473956, 0.15469334, 0.09355093],\n",
       "       [0.5119766 , 0.19173414, 0.17077295, 0.1255163 ],\n",
       "       [0.6083657 , 0.16411056, 0.13978453, 0.08773924],\n",
       "       [0.51856655, 0.17604244, 0.17537022, 0.13002086],\n",
       "       [0.556866  , 0.16681077, 0.15787509, 0.11844812],\n",
       "       [0.5616473 , 0.166526  , 0.1498535 , 0.1219732 ],\n",
       "       [0.5739728 , 0.15508913, 0.15199246, 0.1189457 ],\n",
       "       [0.5686103 , 0.1833783 , 0.15817638, 0.08983509],\n",
       "       [0.56198484, 0.15917179, 0.15897703, 0.11986637],\n",
       "       [0.48697358, 0.17315759, 0.19732198, 0.1425468 ],\n",
       "       [0.6185605 , 0.14566411, 0.13302241, 0.10275299],\n",
       "       [0.54096836, 0.17162934, 0.15968594, 0.12771639],\n",
       "       [0.5763709 , 0.17383112, 0.15088591, 0.0989121 ],\n",
       "       [0.66054255, 0.13846032, 0.11725281, 0.08374427],\n",
       "       [0.57386357, 0.14657997, 0.14738688, 0.13216956],\n",
       "       [0.6139968 , 0.15093729, 0.13537161, 0.0996943 ],\n",
       "       [0.3986706 , 0.19574477, 0.22981878, 0.17576586],\n",
       "       [0.33955145, 0.22357509, 0.24138731, 0.19548608],\n",
       "       [0.55694103, 0.16969897, 0.15452735, 0.11883264],\n",
       "       [0.5527069 , 0.18733056, 0.15818243, 0.1017801 ],\n",
       "       [0.43516698, 0.19656266, 0.20678519, 0.16148514],\n",
       "       [0.5820599 , 0.18994251, 0.14093089, 0.08706672],\n",
       "       [0.6143183 , 0.16875638, 0.13073798, 0.08618738],\n",
       "       [0.55156976, 0.16572036, 0.16522153, 0.11748844],\n",
       "       [0.55156976, 0.16572036, 0.16522153, 0.11748844],\n",
       "       [0.62988067, 0.15686153, 0.12742087, 0.08583705],\n",
       "       [0.5318487 , 0.15027845, 0.15317984, 0.16469297],\n",
       "       [0.55203456, 0.16443403, 0.1602071 , 0.1233243 ],\n",
       "       [0.64653575, 0.13508193, 0.12483434, 0.09354799],\n",
       "       [0.536474  , 0.20889238, 0.1647622 , 0.08987137],\n",
       "       [0.5593821 , 0.17105126, 0.16022936, 0.10933731],\n",
       "       [0.6632138 , 0.14928402, 0.11743796, 0.0700642 ],\n",
       "       [0.57525676, 0.14878029, 0.15065588, 0.12530711],\n",
       "       [0.62081873, 0.15407789, 0.1320696 , 0.09303376],\n",
       "       [0.44735047, 0.19268581, 0.19258446, 0.16737923],\n",
       "       [0.5593821 , 0.17105126, 0.16022936, 0.10933731],\n",
       "       [0.542752  , 0.16687962, 0.16678466, 0.12358368],\n",
       "       [0.44911847, 0.18688321, 0.18883279, 0.1751655 ],\n",
       "       [0.49890545, 0.21192357, 0.17650338, 0.11266769],\n",
       "       [0.5343527 , 0.1774497 , 0.16661252, 0.12158502],\n",
       "       [0.55764395, 0.18055615, 0.15513146, 0.10666843],\n",
       "       [0.4780161 , 0.17500322, 0.1803968 , 0.16658391],\n",
       "       [0.5686103 , 0.1833783 , 0.15817638, 0.08983509],\n",
       "       [0.6778554 , 0.13463996, 0.10809753, 0.07940713],\n",
       "       [0.5527069 , 0.18733056, 0.15818243, 0.1017801 ],\n",
       "       [0.64866185, 0.151677  , 0.12140605, 0.07825509],\n",
       "       [0.44992062, 0.19664876, 0.18845956, 0.1649711 ],\n",
       "       [0.5374377 , 0.16759169, 0.15951759, 0.13545309],\n",
       "       [0.4867908 , 0.19195032, 0.1820181 , 0.13924074],\n",
       "       [0.4404849 , 0.1859011 , 0.20740816, 0.16620581],\n",
       "       [0.5670161 , 0.18473956, 0.15469334, 0.09355093],\n",
       "       [0.5041276 , 0.18927751, 0.17426716, 0.13232774],\n",
       "       [0.4443709 , 0.17300963, 0.18314661, 0.19947284],\n",
       "       [0.5835185 , 0.1891147 , 0.1430976 , 0.08426922],\n",
       "       [0.3963093 , 0.18376987, 0.20632836, 0.2135925 ],\n",
       "       [0.54010576, 0.15971304, 0.16110952, 0.13907176],\n",
       "       [0.49675646, 0.19962384, 0.17214702, 0.1314727 ],\n",
       "       [0.5621846 , 0.16859575, 0.15220647, 0.11701322],\n",
       "       [0.6330343 , 0.1561229 , 0.12847273, 0.08237008],\n",
       "       [0.5022591 , 0.19041947, 0.1634037 , 0.14391774],\n",
       "       [0.64866185, 0.15167701, 0.12140606, 0.0782551 ]], dtype=float32)"
      ]
     },
     "execution_count": 274,
     "metadata": {},
     "output_type": "execute_result"
    }
   ],
   "source": [
    "predictions"
   ]
  },
  {
   "cell_type": "code",
   "execution_count": null,
   "id": "314ec969",
   "metadata": {},
   "outputs": [],
   "source": []
  }
 ],
 "metadata": {
  "kernelspec": {
   "display_name": "Python 3 (ipykernel)",
   "language": "python",
   "name": "python3"
  },
  "language_info": {
   "codemirror_mode": {
    "name": "ipython",
    "version": 3
   },
   "file_extension": ".py",
   "mimetype": "text/x-python",
   "name": "python",
   "nbconvert_exporter": "python",
   "pygments_lexer": "ipython3",
   "version": "3.9.16"
  }
 },
 "nbformat": 4,
 "nbformat_minor": 5
}
